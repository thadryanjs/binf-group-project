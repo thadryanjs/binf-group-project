{
  "cells": [
    {
      "cell_type": "code",
      "execution_count": 1,
      "metadata": {
        "colab": {
          "base_uri": "https://localhost:8080/",
          "height": 35
        },
        "id": "U8BETy0qAgCA",
        "outputId": "805ae582-c05b-4c5e-8d74-d442d36e36de"
      },
      "outputs": [
        {
          "data": {
            "text/plain": [
              "'Module online'"
            ]
          },
          "execution_count": 1,
          "metadata": {},
          "output_type": "execute_result"
        }
      ],
      "source": [
        "from src.test import *\n",
        "from src.dna import *\n",
        "\n",
        "test()"
      ]
    },
    {
      "cell_type": "code",
      "execution_count": 2,
      "metadata": {},
      "outputs": [
        {
          "name": "stdout",
          "output_type": "stream",
          "text": [
            "TGACGATGCGGAAGACAACAAGGAGGGACGGAGACCCGAG\n"
          ]
        }
      ],
      "source": [
        "dna = random_dna(40)\n",
        "print(dna)\n",
        "\n",
        "assert len(dna)"
      ]
    },
    {
      "cell_type": "code",
      "execution_count": 3,
      "metadata": {},
      "outputs": [
        {
          "name": "stdout",
          "output_type": "stream",
          "text": [
            "['TGAC', 'GACG', 'ACGA', 'CGAT', 'GATG', 'ATGC', 'TGCG', 'GCGG', 'CGGA', 'GGAA', 'GAAG', 'AAGA', 'AGAC', 'GACA', 'ACAA', 'CAAC', 'AACA', 'ACAA', 'CAAG', 'AAGG', 'AGGA', 'GGAG', 'GAGG', 'AGGG', 'GGGA', 'GGAC', 'GACG', 'ACGG', 'CGGA', 'GGAG', 'GAGA', 'AGAC', 'GACC', 'ACCC', 'CCCG', 'CCGA', 'CGAG']\n"
          ]
        }
      ],
      "source": [
        "kmers = get_kmers(dna, 4)\n",
        "\n",
        "print(kmers)\n"
      ]
    },
    {
      "cell_type": "code",
      "execution_count": 4,
      "metadata": {},
      "outputs": [
        {
          "name": "stdout",
          "output_type": "stream",
          "text": [
            "{'TGAC': 1, 'GACG': 2, 'ACGA': 1, 'CGAT': 1, 'GATG': 1, 'ATGC': 1, 'TGCG': 1, 'GCGG': 1, 'CGGA': 2, 'GGAA': 1, 'GAAG': 1, 'AAGA': 1, 'AGAC': 2, 'GACA': 1, 'ACAA': 2, 'CAAC': 1, 'AACA': 1, 'CAAG': 1, 'AAGG': 1, 'AGGA': 1, 'GGAG': 2, 'GAGG': 1, 'AGGG': 1, 'GGGA': 1, 'GGAC': 1, 'ACGG': 1, 'GAGA': 1, 'GACC': 1, 'ACCC': 1, 'CCCG': 1, 'CCGA': 1, 'CGAG': 1}\n"
          ]
        }
      ],
      "source": [
        "\n",
        "kmer_counts = get_kmer_counts(kmers)\n",
        "\n",
        "print(kmer_counts)"
      ]
    },
    {
      "cell_type": "code",
      "execution_count": 5,
      "metadata": {},
      "outputs": [
        {
          "name": "stdout",
          "output_type": "stream",
          "text": [
            "before:  GCAAGAACTATATACACACTTAGCAAGTTACGTTTCTTAT\n",
            "after:     (THADRYAN)TATACACACTTAGCAAGTTACGTTTCTTAT\n",
            "before:  GCAAGAACTATATACACACTTAGCAAGTTACGTTTCTTAT\n",
            "after:     GCAAGAACTATATACACACTTAGCAAGTTA(THADRYAN)\n",
            "before:  GCAAGAACTATATACACACTTAGCAAGTTACGTTTCTTAT\n",
            "after:     GC(THADRYAN)TACACACTTAGCAAGTTACGTTTCTTAT\n"
          ]
        }
      ],
      "source": [
        "before = \"GCAAGAACTATATACACACTTAGCAAGTTACGTTTCTTAT\"\n",
        "\n",
        "to_hide = \"(THADRYAN)\"\n",
        "\n",
        "after = insert_sequence(to_hide, before, 0)\n",
        "print(\"before: \", before)\n",
        "print(\"after:    \", after)\n",
        "\n",
        "after = insert_sequence(to_hide, before, 30)\n",
        "print(\"before: \", before)\n",
        "print(\"after:    \", after)\n",
        "\n",
        "after = insert_sequence(to_hide, before)\n",
        "print(\"before: \", before)\n",
        "print(\"after:    \", after)"
      ]
    },
    {
      "cell_type": "code",
      "execution_count": 6,
      "metadata": {},
      "outputs": [
        {
          "name": "stdout",
          "output_type": "stream",
          "text": [
            "True\n",
            "True\n"
          ]
        }
      ],
      "source": [
        "edge_case1 = \"(THADRYAN)TATACACACTTAGCAAGTTACGTTTCTTAT\"\n",
        "edge_case2 = \"GCAAGAACTATATACACACTTAGCAAGTTA(THADRYAN)\"\n",
        "\n",
        "test_cases = [insert_sequence(to_hide, before) for i in range(10000)]\n",
        "\n",
        "print(edge_case1 in test_cases)\n",
        "print(edge_case2 in test_cases)"
      ]
    },
    {
      "cell_type": "code",
      "execution_count": 7,
      "metadata": {},
      "outputs": [
        {
          "name": "stdout",
          "output_type": "stream",
          "text": [
            "header:  >ENA|U00096|U00096.3 Escherichia coli str. K-12 substr. MG1655, complete genome.\n",
            "sequence of len:  4641652\n",
            "first 100:  GCTTTTCATTCTGACTGCAACGGGCAATATGTCTCTGTGTGGATTAAAAAAAGAGTGTCTGATAGCAGCTTCTGAACTGGTTACCTGCCGTGAGTAAAT\n",
            "last 100:  GGGGCTTTTAGAGCAACGAGACACGGCAATGTTGCACCGTTTGCTGCATGATATTGAAAAAAATATCACCAAATAAAAAACGCCTTAGTAAGTATTTTT\n"
          ]
        }
      ],
      "source": [
        "sequence_obj = read_fasta(\"data/U00096.3.fasta\")\n",
        "name = sequence_obj[\"header\"]\n",
        "seq = sequence_obj[\"sequence\"]\n",
        "\n",
        "print(\"header: \", name)\n",
        "print(\"sequence of len: \", len(seq))\n",
        "print(\"first 100: \", seq[1:100])\n",
        "print(\"last 100: \", seq[-100 : -1])"
      ]
    },
    {
      "cell_type": "code",
      "execution_count": 8,
      "metadata": {},
      "outputs": [
        {
          "name": "stdout",
          "output_type": "stream",
          "text": [
            ">ENA|U00096|U00096.3 Escherichia coli str. K-12 substr. MG1655, complete genome.\n",
            "GCTTTTC|<BONG_HITS_4_JESUS>|ATGTCTCTGTGTGGATTAAAAAAAGAGTGTCTGATAGCAGCTTCTGAACTGGTTACCTGCCGTGAGTAAAT\n"
          ]
        }
      ],
      "source": [
        "# get a subset of the sequence\n",
        "seq_subset = seq[1:100]\n",
        "\n",
        "# hide a super secret message in the\n",
        "new_seq = insert_sequence(\"|<BONG_HITS_4_JESUS>|\", seq_subset)\n",
        "\n",
        "# make sure we didn't change the length\n",
        "assert len(seq_subset) == len(new_seq)\n",
        "\n",
        "print(name)\n",
        "print(new_seq)"
      ]
    }
  ],
  "metadata": {
    "colab": {
      "authorship_tag": "ABX9TyMH5EUqbWK9ymZG76zmpiHt",
      "include_colab_link": true,
      "provenance": [],
      "toc_visible": true
    },
    "kernelspec": {
      "display_name": "Python 3",
      "name": "python3"
    },
    "language_info": {
      "codemirror_mode": {
        "name": "ipython",
        "version": 3
      },
      "file_extension": ".py",
      "mimetype": "text/x-python",
      "name": "python",
      "nbconvert_exporter": "python",
      "pygments_lexer": "ipython3",
      "version": "3.11.3"
    }
  },
  "nbformat": 4,
  "nbformat_minor": 0
}
