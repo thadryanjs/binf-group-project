{
 "cells": [
  {
   "cell_type": "code",
   "execution_count": 1,
   "metadata": {},
   "outputs": [],
   "source": [
    "import subprocess\n",
    "import random\n",
    "import fastaparser\n",
    "import os\n",
    "\n",
    "import pandas as pd\n",
    "\n",
    "from src.dna import *"
   ]
  },
  {
   "attachments": {},
   "cell_type": "markdown",
   "metadata": {},
   "source": [
    "We will need to modify a sequences using the tool, then compare it against the background."
   ]
  },
  {
   "cell_type": "code",
   "execution_count": 2,
   "metadata": {},
   "outputs": [
    {
     "data": {
      "text/plain": [
       "['CTTTAACA',\n",
       " 'CATCGGACC',\n",
       " 'TGGGGGGGCG',\n",
       " 'TCCGTGCTGTA',\n",
       " 'CGGGGCTAGTTC',\n",
       " 'CTACGCCAATGTA',\n",
       " 'GGTAACCGTATGTT',\n",
       " 'ACTCTACGCAGCGCA',\n",
       " 'CAAACTCGTTGGAACA',\n",
       " 'TGAACATTTCGGTTATA',\n",
       " 'CGCGCGAAGAACTTGGCA',\n",
       " 'TCGATGAATTACGGAAACG',\n",
       " 'ACCTATCGATCCAACCTAGG']"
      ]
     },
     "execution_count": 2,
     "metadata": {},
     "output_type": "execute_result"
    }
   ],
   "source": [
    "random.seed(867530)\n",
    "\n",
    "min = 8\n",
    "max = 20\n",
    "\n",
    "sequences = [random_dna(i) for i in range(min, max+1)]\n",
    "\n",
    "sequences"
   ]
  },
  {
   "cell_type": "code",
   "execution_count": 3,
   "metadata": {},
   "outputs": [],
   "source": [
    "filepath = \"data/\"\n",
    "filename = \"U00096.3.fasta\"\n",
    "\n",
    "for seq in sequences:\n",
    "\n",
    "    fasta_obj = read_fasta(filepath+filename)\n",
    "    fasta_header = fasta_obj[\"header\"]\n",
    "    fasta_seq = fasta_obj[\"sequence\"]\n",
    "\n",
    "    new_sequence = insert_sequence(seq, fasta_seq)\n",
    "\n",
    "    seq_id = str(len(seq)) + \"_\" + seq\n",
    "\n",
    "    new_filename = filepath + \"modified/\" + seq_id + \"_\" + filename\n",
    "\n",
    "    with open(new_filename, \"w\") as fasta_file:\n",
    "        fasta_seq_mod = fastaparser.FastaSequence(\n",
    "            sequence = new_sequence,\n",
    "            # id = seq_id,\n",
    "            description = filename + \" with \" + seq + \"introduced\"\n",
    "        )"
   ]
  },
  {
   "cell_type": "code",
   "execution_count": 4,
   "metadata": {},
   "outputs": [
    {
     "data": {
      "text/plain": [
       "dict"
      ]
     },
     "execution_count": 4,
     "metadata": {},
     "output_type": "execute_result"
    }
   ],
   "source": [
    "f = read_fasta(filename = \"data/U00096.3.fasta\")\n",
    "\n",
    "type(f)"
   ]
  },
  {
   "cell_type": "code",
   "execution_count": 5,
   "metadata": {},
   "outputs": [
    {
     "data": {
      "text/plain": [
       "['motifs_CTTTAACA',\n",
       " 'motifs_CATCGGACC',\n",
       " 'motifs_TGGGGGGGCG',\n",
       " 'motifs_TCCGTGCTGTA',\n",
       " 'motifs_CGGGGCTAGTTC',\n",
       " 'motifs_CTACGCCAATGTA',\n",
       " 'motifs_GGTAACCGTATGTT',\n",
       " 'motifs_ACTCTACGCAGCGCA',\n",
       " 'motifs_CAAACTCGTTGGAACA',\n",
       " 'motifs_TGAACATTTCGGTTATA',\n",
       " 'motifs_CGCGCGAAGAACTTGGCA',\n",
       " 'motifs_TCGATGAATTACGGAAACG',\n",
       " 'motifs_ACCTATCGATCCAACCTAGG']"
      ]
     },
     "execution_count": 5,
     "metadata": {},
     "output_type": "execute_result"
    }
   ],
   "source": [
    "mod_dirs = os.listdir(\"homer-results/\")\n",
    "\n",
    "mod_dirs"
   ]
  },
  {
   "attachments": {},
   "cell_type": "markdown",
   "metadata": {},
   "source": [
    "## Random DNA Does not appear to fool it in this experiment\n",
    "    > Limitation: degenerate codons"
   ]
  },
  {
   "cell_type": "code",
   "execution_count": 6,
   "metadata": {},
   "outputs": [
    {
     "ename": "FileNotFoundError",
     "evalue": "[Errno 2] No such file or directory: 'python thad-as-script.py'",
     "output_type": "error",
     "traceback": [
      "\u001b[0;31m---------------------------------------------------------------------------\u001b[0m",
      "\u001b[0;31mFileNotFoundError\u001b[0m                         Traceback (most recent call last)",
      "Cell \u001b[0;32mIn[6], line 1\u001b[0m\n\u001b[0;32m----> 1\u001b[0m subprocess\u001b[39m.\u001b[39;49mcall(\u001b[39m\"\u001b[39;49m\u001b[39mpython thad-as-script.py\u001b[39;49m\u001b[39m\"\u001b[39;49m)\n",
      "File \u001b[0;32m~/anaconda3/envs/binf-proj/lib/python3.11/subprocess.py:389\u001b[0m, in \u001b[0;36mcall\u001b[0;34m(timeout, *popenargs, **kwargs)\u001b[0m\n\u001b[1;32m    381\u001b[0m \u001b[39mdef\u001b[39;00m \u001b[39mcall\u001b[39m(\u001b[39m*\u001b[39mpopenargs, timeout\u001b[39m=\u001b[39m\u001b[39mNone\u001b[39;00m, \u001b[39m*\u001b[39m\u001b[39m*\u001b[39mkwargs):\n\u001b[1;32m    382\u001b[0m \u001b[39m    \u001b[39m\u001b[39m\"\"\"Run command with arguments.  Wait for command to complete or\u001b[39;00m\n\u001b[1;32m    383\u001b[0m \u001b[39m    timeout, then return the returncode attribute.\u001b[39;00m\n\u001b[1;32m    384\u001b[0m \n\u001b[0;32m   (...)\u001b[0m\n\u001b[1;32m    387\u001b[0m \u001b[39m    retcode = call([\"ls\", \"-l\"])\u001b[39;00m\n\u001b[1;32m    388\u001b[0m \u001b[39m    \"\"\"\u001b[39;00m\n\u001b[0;32m--> 389\u001b[0m     \u001b[39mwith\u001b[39;00m Popen(\u001b[39m*\u001b[39;49mpopenargs, \u001b[39m*\u001b[39;49m\u001b[39m*\u001b[39;49mkwargs) \u001b[39mas\u001b[39;00m p:\n\u001b[1;32m    390\u001b[0m         \u001b[39mtry\u001b[39;00m:\n\u001b[1;32m    391\u001b[0m             \u001b[39mreturn\u001b[39;00m p\u001b[39m.\u001b[39mwait(timeout\u001b[39m=\u001b[39mtimeout)\n",
      "File \u001b[0;32m~/anaconda3/envs/binf-proj/lib/python3.11/subprocess.py:1024\u001b[0m, in \u001b[0;36mPopen.__init__\u001b[0;34m(self, args, bufsize, executable, stdin, stdout, stderr, preexec_fn, close_fds, shell, cwd, env, universal_newlines, startupinfo, creationflags, restore_signals, start_new_session, pass_fds, user, group, extra_groups, encoding, errors, text, umask, pipesize, process_group)\u001b[0m\n\u001b[1;32m   1020\u001b[0m         \u001b[39mif\u001b[39;00m \u001b[39mself\u001b[39m\u001b[39m.\u001b[39mtext_mode:\n\u001b[1;32m   1021\u001b[0m             \u001b[39mself\u001b[39m\u001b[39m.\u001b[39mstderr \u001b[39m=\u001b[39m io\u001b[39m.\u001b[39mTextIOWrapper(\u001b[39mself\u001b[39m\u001b[39m.\u001b[39mstderr,\n\u001b[1;32m   1022\u001b[0m                     encoding\u001b[39m=\u001b[39mencoding, errors\u001b[39m=\u001b[39merrors)\n\u001b[0;32m-> 1024\u001b[0m     \u001b[39mself\u001b[39;49m\u001b[39m.\u001b[39;49m_execute_child(args, executable, preexec_fn, close_fds,\n\u001b[1;32m   1025\u001b[0m                         pass_fds, cwd, env,\n\u001b[1;32m   1026\u001b[0m                         startupinfo, creationflags, shell,\n\u001b[1;32m   1027\u001b[0m                         p2cread, p2cwrite,\n\u001b[1;32m   1028\u001b[0m                         c2pread, c2pwrite,\n\u001b[1;32m   1029\u001b[0m                         errread, errwrite,\n\u001b[1;32m   1030\u001b[0m                         restore_signals,\n\u001b[1;32m   1031\u001b[0m                         gid, gids, uid, umask,\n\u001b[1;32m   1032\u001b[0m                         start_new_session, process_group)\n\u001b[1;32m   1033\u001b[0m \u001b[39mexcept\u001b[39;00m:\n\u001b[1;32m   1034\u001b[0m     \u001b[39m# Cleanup if the child failed starting.\u001b[39;00m\n\u001b[1;32m   1035\u001b[0m     \u001b[39mfor\u001b[39;00m f \u001b[39min\u001b[39;00m \u001b[39mfilter\u001b[39m(\u001b[39mNone\u001b[39;00m, (\u001b[39mself\u001b[39m\u001b[39m.\u001b[39mstdin, \u001b[39mself\u001b[39m\u001b[39m.\u001b[39mstdout, \u001b[39mself\u001b[39m\u001b[39m.\u001b[39mstderr)):\n",
      "File \u001b[0;32m~/anaconda3/envs/binf-proj/lib/python3.11/subprocess.py:1917\u001b[0m, in \u001b[0;36mPopen._execute_child\u001b[0;34m(self, args, executable, preexec_fn, close_fds, pass_fds, cwd, env, startupinfo, creationflags, shell, p2cread, p2cwrite, c2pread, c2pwrite, errread, errwrite, restore_signals, gid, gids, uid, umask, start_new_session, process_group)\u001b[0m\n\u001b[1;32m   1915\u001b[0m     \u001b[39mif\u001b[39;00m errno_num \u001b[39m!=\u001b[39m \u001b[39m0\u001b[39m:\n\u001b[1;32m   1916\u001b[0m         err_msg \u001b[39m=\u001b[39m os\u001b[39m.\u001b[39mstrerror(errno_num)\n\u001b[0;32m-> 1917\u001b[0m     \u001b[39mraise\u001b[39;00m child_exception_type(errno_num, err_msg, err_filename)\n\u001b[1;32m   1918\u001b[0m \u001b[39mraise\u001b[39;00m child_exception_type(err_msg)\n",
      "\u001b[0;31mFileNotFoundError\u001b[0m: [Errno 2] No such file or directory: 'python thad-as-script.py'"
     ]
    }
   ],
   "source": [
    "# subprocess.call(\"python thad-as-script.py\")"
   ]
  },
  {
   "cell_type": "code",
   "execution_count": 7,
   "metadata": {},
   "outputs": [
    {
     "data": {
      "text/plain": [
       "{'CTTTAACA': False,\n",
       " 'CATCGGACC': False,\n",
       " 'TGGGGGGGCG': False,\n",
       " 'TCCGTGCTGTA': False,\n",
       " 'CGGGGCTAGTTC': False,\n",
       " 'CTACGCCAATGTA': False,\n",
       " 'GGTAACCGTATGTT': False,\n",
       " 'ACTCTACGCAGCGCA': False,\n",
       " 'CAAACTCGTTGGAACA': False,\n",
       " 'TGAACATTTCGGTTATA': False,\n",
       " 'CGCGCGAAGAACTTGGCA': False,\n",
       " 'TCGATGAATTACGGAAACG': False,\n",
       " 'ACCTATCGATCCAACCTAGG': False}"
      ]
     },
     "execution_count": 7,
     "metadata": {},
     "output_type": "execute_result"
    }
   ],
   "source": [
    "results_dict = {}\n",
    "\n",
    "for mod_file in mod_dirs:\n",
    "    insert_sequence = mod_file.split(\"_\")[1]\n",
    "    outdirs = os.listdir(\"homer-results/\" + mod_file)\n",
    "    for f in outdirs:\n",
    "        if \"motif.2.tmp\" in f:\n",
    "            motif_data = pd.read_csv(\"homer-results/\" + mod_file + \"/\" + f, sep = \"\\t\")\n",
    "            motifs = motif_data[\"Consensus\"]\n",
    "            found = False\n",
    "            for m in motifs:\n",
    "                if m == insert_sequence:\n",
    "                    found = True\n",
    "            results_dict[insert_sequence] = found\n",
    "results_dict     "
   ]
  },
  {
   "cell_type": "code",
   "execution_count": null,
   "metadata": {},
   "outputs": [],
   "source": [
    "# example motifs\n",
    "# findMotifs.pl targets.fa fasta motifResults/ -fasta background.fa\n",
    "# for f in mod_files:\n",
    "\n",
    "#     subprocess.call([\n",
    "#         \"findMotifs.pl\",\n",
    "#         \"data/U00096.3.fasta\",\n",
    "#         \"fasta\",\n",
    "#         \"homer-results/motifs_\" + f.split(\"_\")[1],\n",
    "#         \"-fasta\",\n",
    "#         \"data/modified/\" + f\n",
    "#     ])"
   ]
  },
  {
   "cell_type": "code",
   "execution_count": 8,
   "metadata": {},
   "outputs": [
    {
     "ename": "IndexError",
     "evalue": "string index out of range",
     "output_type": "error",
     "traceback": [
      "\u001b[0;31m---------------------------------------------------------------------------\u001b[0m",
      "\u001b[0;31mIndexError\u001b[0m                                Traceback (most recent call last)",
      "Cell \u001b[0;32mIn[8], line 9\u001b[0m\n\u001b[1;32m      6\u001b[0m writer \u001b[39m=\u001b[39m fastaparser\u001b[39m.\u001b[39mWriter(fasta_file)\n\u001b[1;32m      7\u001b[0m \u001b[39mfor\u001b[39;00m i \u001b[39min\u001b[39;00m \u001b[39mrange\u001b[39m(\u001b[39mlen\u001b[39m(seqs)):\n\u001b[1;32m      8\u001b[0m     fasta_sequence \u001b[39m=\u001b[39m fastaparser\u001b[39m.\u001b[39mFastaSequence(\n\u001b[0;32m----> 9\u001b[0m         sequence \u001b[39m=\u001b[39m seq[i]\u001b[39m.\u001b[39mreplace(\u001b[39m\"\u001b[39m\u001b[39m'\u001b[39m\u001b[39m\"\u001b[39m, \u001b[39m\"\u001b[39m\u001b[39m\"\u001b[39m)\u001b[39m.\u001b[39mreplace(\u001b[39m\"\u001b[39m\u001b[39m \u001b[39m\u001b[39m\"\u001b[39m, \u001b[39m\"\u001b[39m\u001b[39m\"\u001b[39m),\n\u001b[1;32m     10\u001b[0m         \u001b[39m# id = \"Seq\" + str(i),\u001b[39;00m\n\u001b[1;32m     11\u001b[0m         description \u001b[39m=\u001b[39m \u001b[39m\"\u001b[39m\u001b[39mBONG_HITS_4_JESUS\u001b[39m\u001b[39m\"\u001b[39m \u001b[39m+\u001b[39m \u001b[39mstr\u001b[39m(i)\n\u001b[1;32m     12\u001b[0m     )\n\u001b[1;32m     13\u001b[0m     writer\u001b[39m.\u001b[39mwritefasta(fasta_sequence)\n",
      "\u001b[0;31mIndexError\u001b[0m: string index out of range"
     ]
    }
   ],
   "source": [
    "import fastaparser\n",
    "with open(\"seq_from_jp.txt\", \"r\") as input_data:\n",
    "    for l in input_data.readlines():\n",
    "        seqs = l.split(\",\")\n",
    "        with open(\"jp_is_a_goober.fasta\", \"w\") as fasta_file:\n",
    "            writer = fastaparser.Writer(fasta_file)\n",
    "            for i in range(len(seqs)):\n",
    "                fasta_sequence = fastaparser.FastaSequence(\n",
    "                    sequence = seq[i].replace(\"'\", \"\").replace(\" \", \"\"),\n",
    "                    # id = \"Seq\" + str(i),\n",
    "                    description = \"BONG_HITS_4_JESUS\" + str(i)\n",
    "                )\n",
    "                writer.writefasta(fasta_sequence)\n"
   ]
  },
  {
   "attachments": {},
   "cell_type": "markdown",
   "metadata": {},
   "source": [
    "## Misc\n"
   ]
  },
  {
   "cell_type": "code",
   "execution_count": 12,
   "metadata": {},
   "outputs": [
    {
     "data": {
      "text/plain": [
       "4641652"
      ]
     },
     "execution_count": 12,
     "metadata": {},
     "output_type": "execute_result"
    }
   ],
   "source": [
    "sequence = read_fasta(\"data/U00096.3.fasta\")\n",
    "\n",
    "len(sequence[\"sequence\"])"
   ]
  },
  {
   "cell_type": "code",
   "execution_count": 16,
   "metadata": {},
   "outputs": [
    {
     "name": "stdout",
     "output_type": "stream",
     "text": [
      "def random_dna(n, nucleotides = [\"A\", \"C\", \"G\", \"T\"]):\n",
      "\n",
      "def get_kmers(seq, k):\n",
      "\n",
      "def get_kmer_counts(kmers):\n",
      "\n",
      "def insert_sequence(seq, dna, insert_index = None):\n",
      "\n",
      "def read_fasta(filename = \"data/U00096.3.fasta\"):\n",
      "\n",
      "def degenerate_outside_region(seq, reg_start, reg_length):\n",
      "\n",
      "def select_random_promoter(seq, length = 15):\n",
      "\n",
      "def degenerate_inside_region(seq, reg_start, reg_length):\n",
      "\n"
     ]
    }
   ],
   "source": [
    "with open(\"src/dna.py\", \"r\") as incoming:\n",
    "    lines = incoming.readlines()\n",
    "    for l in lines:\n",
    "        if \"def\" in l:\n",
    "            print(l)"
   ]
  }
 ],
 "metadata": {
  "kernelspec": {
   "display_name": "binf1",
   "language": "python",
   "name": "python3"
  },
  "language_info": {
   "codemirror_mode": {
    "name": "ipython",
    "version": 3
   },
   "file_extension": ".py",
   "mimetype": "text/x-python",
   "name": "python",
   "nbconvert_exporter": "python",
   "pygments_lexer": "ipython3",
   "version": "3.11.3"
  },
  "orig_nbformat": 4
 },
 "nbformat": 4,
 "nbformat_minor": 2
}
