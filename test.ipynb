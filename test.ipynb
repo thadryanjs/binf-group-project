{
  "cells": [
    {
      "attachments": {},
      "cell_type": "markdown",
      "metadata": {
        "colab_type": "text",
        "id": "view-in-github"
      },
      "source": [
        "<a href=\"https://colab.research.google.com/github/thadryanjs/binf-group-project/blob/main/test.ipynb\" target=\"_parent\"><img src=\"https://colab.research.google.com/assets/colab-badge.svg\" alt=\"Open In Colab\"/></a>"
      ]
    },
    {
      "cell_type": "code",
      "execution_count": 367,
      "metadata": {
        "colab": {
          "base_uri": "https://localhost:8080/",
          "height": 35
        },
        "id": "U8BETy0qAgCA",
        "outputId": "805ae582-c05b-4c5e-8d74-d442d36e36de"
      },
      "outputs": [
        {
          "data": {
            "text/plain": [
              "'Module online'"
            ]
          },
          "execution_count": 367,
          "metadata": {},
          "output_type": "execute_result"
        }
      ],
      "source": [
        "from src.test import *\n",
        "from src.dna import *\n",
        "\n",
        "test()"
      ]
    },
    {
      "cell_type": "code",
      "execution_count": 368,
      "metadata": {},
      "outputs": [
        {
          "name": "stdout",
          "output_type": "stream",
          "text": [
            "TGCGCAGTAAATAACCAGTGTGGGAAGACTGACATTGATG\n"
          ]
        }
      ],
      "source": [
        "dna = random_dna(40)\n",
        "print(dna)\n",
        "\n",
        "assert len(dna)"
      ]
    },
    {
      "cell_type": "code",
      "execution_count": 369,
      "metadata": {},
      "outputs": [
        {
          "name": "stdout",
          "output_type": "stream",
          "text": [
            "['TGCG', 'GCGC', 'CGCA', 'GCAG', 'CAGT', 'AGTA', 'GTAA', 'TAAA', 'AAAT', 'AATA', 'ATAA', 'TAAC', 'AACC', 'ACCA', 'CCAG', 'CAGT', 'AGTG', 'GTGT', 'TGTG', 'GTGG', 'TGGG', 'GGGA', 'GGAA', 'GAAG', 'AAGA', 'AGAC', 'GACT', 'ACTG', 'CTGA', 'TGAC', 'GACA', 'ACAT', 'CATT', 'ATTG', 'TTGA', 'TGAT', 'GATG']\n"
          ]
        }
      ],
      "source": [
        "kmers = get_kmers(dna, 4)\n",
        "\n",
        "print(kmers)\n"
      ]
    },
    {
      "cell_type": "code",
      "execution_count": 370,
      "metadata": {},
      "outputs": [
        {
          "name": "stdout",
          "output_type": "stream",
          "text": [
            "{'TGCG': 1, 'GCGC': 1, 'CGCA': 1, 'GCAG': 1, 'CAGT': 2, 'AGTA': 1, 'GTAA': 1, 'TAAA': 1, 'AAAT': 1, 'AATA': 1, 'ATAA': 1, 'TAAC': 1, 'AACC': 1, 'ACCA': 1, 'CCAG': 1, 'AGTG': 1, 'GTGT': 1, 'TGTG': 1, 'GTGG': 1, 'TGGG': 1, 'GGGA': 1, 'GGAA': 1, 'GAAG': 1, 'AAGA': 1, 'AGAC': 1, 'GACT': 1, 'ACTG': 1, 'CTGA': 1, 'TGAC': 1, 'GACA': 1, 'ACAT': 1, 'CATT': 1, 'ATTG': 1, 'TTGA': 1, 'TGAT': 1, 'GATG': 1}\n"
          ]
        }
      ],
      "source": [
        "\n",
        "kmer_counts = get_kmer_counts(kmers)\n",
        "\n",
        "print(kmer_counts)"
      ]
    },
    {
      "cell_type": "code",
      "execution_count": 371,
      "metadata": {},
      "outputs": [
        {
          "name": "stdout",
          "output_type": "stream",
          "text": [
            "before:  GCAAGAACTATATACACACTTAGCAAGTTACGTTTCTTAT\n",
            "after:     (THADRYAN)TATACACACTTAGCAAGTTACGTTTCTTAT\n",
            "before:  GCAAGAACTATATACACACTTAGCAAGTTACGTTTCTTAT\n",
            "after:     GCAAGAACTATATACACACTTAGCAAGTTA(THADRYAN)\n",
            "before:  GCAAGAACTATATACACACTTAGCAAGTTACGTTTCTTAT\n",
            "after:     GCAAGAACTAT(THADRYAN)AGCAAGTTACGTTTCTTAT\n"
          ]
        }
      ],
      "source": [
        "\n",
        "\n",
        "\n",
        "\n",
        "before = \"GCAAGAACTATATACACACTTAGCAAGTTACGTTTCTTAT\"\n",
        "\n",
        "to_hide = \"(THADRYAN)\"\n",
        "\n",
        "after = insert_sequence(to_hide, before, 0)\n",
        "print(\"before: \", before)\n",
        "print(\"after:    \", after)\n",
        "\n",
        "after = insert_sequence(to_hide, before, 30)\n",
        "print(\"before: \", before)\n",
        "print(\"after:    \", after)\n",
        "\n",
        "after = insert_sequence(to_hide, before)\n",
        "print(\"before: \", before)\n",
        "print(\"after:    \", after)"
      ]
    },
    {
      "cell_type": "code",
      "execution_count": 372,
      "metadata": {},
      "outputs": [
        {
          "name": "stdout",
          "output_type": "stream",
          "text": [
            "True\n",
            "True\n"
          ]
        }
      ],
      "source": [
        "edge_case1 = \"(THADRYAN)TATACACACTTAGCAAGTTACGTTTCTTAT\"\n",
        "edge_case2 = \"GCAAGAACTATATACACACTTAGCAAGTTA(THADRYAN)\"\n",
        "\n",
        "test_cases = [insert_sequence(to_hide, before) for i in range(10000)]\n",
        "\n",
        "print(edge_case1 in test_cases)\n",
        "print(edge_case2 in test_cases)"
      ]
    },
    {
      "cell_type": "code",
      "execution_count": null,
      "metadata": {},
      "outputs": [],
      "source": []
    }
  ],
  "metadata": {
    "colab": {
      "authorship_tag": "ABX9TyMH5EUqbWK9ymZG76zmpiHt",
      "include_colab_link": true,
      "provenance": [],
      "toc_visible": true
    },
    "kernelspec": {
      "display_name": "Python 3",
      "name": "python3"
    },
    "language_info": {
      "codemirror_mode": {
        "name": "ipython",
        "version": 3
      },
      "file_extension": ".py",
      "mimetype": "text/x-python",
      "name": "python",
      "nbconvert_exporter": "python",
      "pygments_lexer": "ipython3",
      "version": "3.11.3"
    }
  },
  "nbformat": 4,
  "nbformat_minor": 0
}
