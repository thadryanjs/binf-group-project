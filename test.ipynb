{
  "cells": [
    {
      "attachments": {},
      "cell_type": "markdown",
      "metadata": {
        "colab_type": "text",
        "id": "view-in-github"
      },
      "source": [
        "<a href=\"https://colab.research.google.com/github/thadryanjs/binf-group-project/blob/main/test.ipynb\" target=\"_parent\"><img src=\"https://colab.research.google.com/assets/colab-badge.svg\" alt=\"Open In Colab\"/></a>"
      ]
    },
    {
      "cell_type": "code",
      "execution_count": 373,
      "metadata": {
        "colab": {
          "base_uri": "https://localhost:8080/",
          "height": 35
        },
        "id": "U8BETy0qAgCA",
        "outputId": "805ae582-c05b-4c5e-8d74-d442d36e36de"
      },
      "outputs": [
        {
          "data": {
            "text/plain": [
              "'Module online'"
            ]
          },
          "execution_count": 373,
          "metadata": {},
          "output_type": "execute_result"
        }
      ],
      "source": [
        "from src.test import *\n",
        "from src.dna import *\n",
        "\n",
        "test()"
      ]
    },
    {
      "cell_type": "code",
      "execution_count": 374,
      "metadata": {},
      "outputs": [
        {
          "name": "stdout",
          "output_type": "stream",
          "text": [
            "CGGGGCTCCTCGGTTACCAAGTTGTATCCTTGCGCACAGT\n"
          ]
        }
      ],
      "source": [
        "dna = random_dna(40)\n",
        "print(dna)\n",
        "\n",
        "assert len(dna)"
      ]
    },
    {
      "cell_type": "code",
      "execution_count": 375,
      "metadata": {},
      "outputs": [
        {
          "name": "stdout",
          "output_type": "stream",
          "text": [
            "['CGGG', 'GGGG', 'GGGC', 'GGCT', 'GCTC', 'CTCC', 'TCCT', 'CCTC', 'CTCG', 'TCGG', 'CGGT', 'GGTT', 'GTTA', 'TTAC', 'TACC', 'ACCA', 'CCAA', 'CAAG', 'AAGT', 'AGTT', 'GTTG', 'TTGT', 'TGTA', 'GTAT', 'TATC', 'ATCC', 'TCCT', 'CCTT', 'CTTG', 'TTGC', 'TGCG', 'GCGC', 'CGCA', 'GCAC', 'CACA', 'ACAG', 'CAGT']\n"
          ]
        }
      ],
      "source": [
        "kmers = get_kmers(dna, 4)\n",
        "\n",
        "print(kmers)\n"
      ]
    },
    {
      "cell_type": "code",
      "execution_count": 376,
      "metadata": {},
      "outputs": [
        {
          "name": "stdout",
          "output_type": "stream",
          "text": [
            "{'CGGG': 1, 'GGGG': 1, 'GGGC': 1, 'GGCT': 1, 'GCTC': 1, 'CTCC': 1, 'TCCT': 2, 'CCTC': 1, 'CTCG': 1, 'TCGG': 1, 'CGGT': 1, 'GGTT': 1, 'GTTA': 1, 'TTAC': 1, 'TACC': 1, 'ACCA': 1, 'CCAA': 1, 'CAAG': 1, 'AAGT': 1, 'AGTT': 1, 'GTTG': 1, 'TTGT': 1, 'TGTA': 1, 'GTAT': 1, 'TATC': 1, 'ATCC': 1, 'CCTT': 1, 'CTTG': 1, 'TTGC': 1, 'TGCG': 1, 'GCGC': 1, 'CGCA': 1, 'GCAC': 1, 'CACA': 1, 'ACAG': 1, 'CAGT': 1}\n"
          ]
        }
      ],
      "source": [
        "\n",
        "kmer_counts = get_kmer_counts(kmers)\n",
        "\n",
        "print(kmer_counts)"
      ]
    },
    {
      "cell_type": "code",
      "execution_count": 377,
      "metadata": {},
      "outputs": [
        {
          "name": "stdout",
          "output_type": "stream",
          "text": [
            "before:  GCAAGAACTATATACACACTTAGCAAGTTACGTTTCTTAT\n",
            "after:     (THADRYAN)TATACACACTTAGCAAGTTACGTTTCTTAT\n",
            "before:  GCAAGAACTATATACACACTTAGCAAGTTACGTTTCTTAT\n",
            "after:     GCAAGAACTATATACACACTTAGCAAGTTA(THADRYAN)\n",
            "before:  GCAAGAACTATATACACACTTAGCAAGTTACGTTTCTTAT\n",
            "after:     GCAAGAACTATATACACACTTAGC(THADRYAN)TCTTAT\n"
          ]
        }
      ],
      "source": [
        "\n",
        "\n",
        "\n",
        "\n",
        "before = \"GCAAGAACTATATACACACTTAGCAAGTTACGTTTCTTAT\"\n",
        "\n",
        "to_hide = \"(THADRYAN)\"\n",
        "\n",
        "after = insert_sequence(to_hide, before, 0)\n",
        "print(\"before: \", before)\n",
        "print(\"after:    \", after)\n",
        "\n",
        "after = insert_sequence(to_hide, before, 30)\n",
        "print(\"before: \", before)\n",
        "print(\"after:    \", after)\n",
        "\n",
        "after = insert_sequence(to_hide, before)\n",
        "print(\"before: \", before)\n",
        "print(\"after:    \", after)"
      ]
    },
    {
      "cell_type": "code",
      "execution_count": 378,
      "metadata": {},
      "outputs": [
        {
          "name": "stdout",
          "output_type": "stream",
          "text": [
            "True\n",
            "True\n"
          ]
        }
      ],
      "source": [
        "edge_case1 = \"(THADRYAN)TATACACACTTAGCAAGTTACGTTTCTTAT\"\n",
        "edge_case2 = \"GCAAGAACTATATACACACTTAGCAAGTTA(THADRYAN)\"\n",
        "\n",
        "test_cases = [insert_sequence(to_hide, before) for i in range(10000)]\n",
        "\n",
        "print(edge_case1 in test_cases)\n",
        "print(edge_case2 in test_cases)"
      ]
    },
    {
      "cell_type": "code",
      "execution_count": null,
      "metadata": {},
      "outputs": [],
      "source": []
    }
  ],
  "metadata": {
    "colab": {
      "authorship_tag": "ABX9TyMH5EUqbWK9ymZG76zmpiHt",
      "include_colab_link": true,
      "provenance": [],
      "toc_visible": true
    },
    "kernelspec": {
      "display_name": "Python 3",
      "name": "python3"
    },
    "language_info": {
      "codemirror_mode": {
        "name": "ipython",
        "version": 3
      },
      "file_extension": ".py",
      "mimetype": "text/x-python",
      "name": "python",
      "nbconvert_exporter": "python",
      "pygments_lexer": "ipython3",
      "version": "3.11.3"
    }
  },
  "nbformat": 4,
  "nbformat_minor": 0
}
