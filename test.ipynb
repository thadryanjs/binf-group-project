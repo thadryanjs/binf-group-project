{
  "cells": [
    {
      "attachments": {},
      "cell_type": "markdown",
      "metadata": {
        "colab_type": "text",
        "id": "view-in-github"
      },
      "source": [
        "<a href=\"https://colab.research.google.com/github/thadryanjs/binf-group-project/blob/main/test.ipynb\" target=\"_parent\"><img src=\"https://colab.research.google.com/assets/colab-badge.svg\" alt=\"Open In Colab\"/></a>"
      ]
    },
    {
      "cell_type": "code",
      "execution_count": 355,
      "metadata": {
        "colab": {
          "base_uri": "https://localhost:8080/",
          "height": 35
        },
        "id": "U8BETy0qAgCA",
        "outputId": "805ae582-c05b-4c5e-8d74-d442d36e36de"
      },
      "outputs": [
        {
          "data": {
            "text/plain": [
              "'Module online'"
            ]
          },
          "execution_count": 355,
          "metadata": {},
          "output_type": "execute_result"
        }
      ],
      "source": [
        "from src.test import *\n",
        "from src.dna import *\n",
        "\n",
        "test()"
      ]
    },
    {
      "cell_type": "code",
      "execution_count": 356,
      "metadata": {},
      "outputs": [
        {
          "name": "stdout",
          "output_type": "stream",
          "text": [
            "GAGACCATACCGTTAGAAAGGATTCGGTACTGCGAGCCTG\n"
          ]
        }
      ],
      "source": [
        "dna = random_dna(40)\n",
        "print(dna)\n",
        "\n",
        "assert len(dna)"
      ]
    },
    {
      "cell_type": "code",
      "execution_count": 357,
      "metadata": {},
      "outputs": [
        {
          "name": "stdout",
          "output_type": "stream",
          "text": [
            "['GAGA', 'AGAC', 'GACC', 'ACCA', 'CCAT', 'CATA', 'ATAC', 'TACC', 'ACCG', 'CCGT', 'CGTT', 'GTTA', 'TTAG', 'TAGA', 'AGAA', 'GAAA', 'AAAG', 'AAGG', 'AGGA', 'GGAT', 'GATT', 'ATTC', 'TTCG', 'TCGG', 'CGGT', 'GGTA', 'GTAC', 'TACT', 'ACTG', 'CTGC', 'TGCG', 'GCGA', 'CGAG', 'GAGC', 'AGCC', 'GCCT', 'CCTG']\n"
          ]
        }
      ],
      "source": [
        "kmers = get_kmers(dna, 4)\n",
        "\n",
        "print(kmers)\n"
      ]
    },
    {
      "cell_type": "code",
      "execution_count": 358,
      "metadata": {},
      "outputs": [
        {
          "name": "stdout",
          "output_type": "stream",
          "text": [
            "{'GAGA': 1, 'AGAC': 1, 'GACC': 1, 'ACCA': 1, 'CCAT': 1, 'CATA': 1, 'ATAC': 1, 'TACC': 1, 'ACCG': 1, 'CCGT': 1, 'CGTT': 1, 'GTTA': 1, 'TTAG': 1, 'TAGA': 1, 'AGAA': 1, 'GAAA': 1, 'AAAG': 1, 'AAGG': 1, 'AGGA': 1, 'GGAT': 1, 'GATT': 1, 'ATTC': 1, 'TTCG': 1, 'TCGG': 1, 'CGGT': 1, 'GGTA': 1, 'GTAC': 1, 'TACT': 1, 'ACTG': 1, 'CTGC': 1, 'TGCG': 1, 'GCGA': 1, 'CGAG': 1, 'GAGC': 1, 'AGCC': 1, 'GCCT': 1, 'CCTG': 1}\n"
          ]
        }
      ],
      "source": [
        "\n",
        "kmer_counts = get_kmer_counts(kmers)\n",
        "\n",
        "print(kmer_counts)"
      ]
    },
    {
      "cell_type": "code",
      "execution_count": 359,
      "metadata": {},
      "outputs": [
        {
          "name": "stdout",
          "output_type": "stream",
          "text": [
            "before:  GCAAGAACTATATACACACTTAGCAAGTTACGTTTCTTAT\n",
            "after:     (THADRYAN)TATACACACTTAGCAAGTTACGTTTCTTAT\n",
            "before:  GCAAGAACTATATACACACTTAGCAAGTTACGTTTCTTAT\n",
            "after:     GCAAGAACTATATACACACTTAGCAAGTTA(THADRYAN)\n",
            "before:  GCAAGAACTATATACACACTTAGCAAGTTACGTTTCTTAT\n",
            "after:     GCAAGAACTATATAC(THADRYAN)AGTTACGTTTCTTAT\n"
          ]
        }
      ],
      "source": [
        "def insert_sequence(seq, dna, insert_index = None):\n",
        "\n",
        "\n",
        "    if not insert_index:\n",
        "        # we need to pick a random spot to insert it that doesn't go over the edge\n",
        "        insert_location = random.choice(range(0, len(dna) - (len(seq))+1))\n",
        "    else:\n",
        "        insert_location = insert_index\n",
        "\n",
        "\n",
        "    left_boundary = 0\n",
        "    right_boundary = len(dna) - len(seq)\n",
        "\n",
        "\n",
        "    # if it's at the start or the end\n",
        "    if insert_index == left_boundary:\n",
        "        left = to_hide\n",
        "        right = dna[len(to_hide):len(dna)]\n",
        "        result = \"\".join([left, right])\n",
        "\n",
        "\n",
        "    elif insert_index == right_boundary:\n",
        "        left = dna[0:right_boundary]\n",
        "        right = to_hide\n",
        "        result = \"\".join([left, right])\n",
        "    \n",
        "\n",
        "    # if it's in the middle somewhere\n",
        "    else:   \n",
        "        # get the sequence before that insertion point \n",
        "        before_insertion = dna[0:insert_location]\n",
        "\n",
        "        after_insertion = dna[insert_location+len(seq):len(dna)]\n",
        "\n",
        "        result =  \"\".join([before_insertion, to_hide, after_insertion])\n",
        "\n",
        "\n",
        "    assert len(result) == len(dna)\n",
        "\n",
        "\n",
        "    return result\n",
        "\n",
        "\n",
        "\n",
        "before = \"GCAAGAACTATATACACACTTAGCAAGTTACGTTTCTTAT\"\n",
        "\n",
        "to_hide = \"(THADRYAN)\"\n",
        "\n",
        "after = insert_sequence(to_hide, before, 0)\n",
        "print(\"before: \", before)\n",
        "print(\"after:    \", after)\n",
        "\n",
        "after = insert_sequence(to_hide, before, 30)\n",
        "print(\"before: \", before)\n",
        "print(\"after:    \", after)\n",
        "\n",
        "after = insert_sequence(to_hide, before)\n",
        "print(\"before: \", before)\n",
        "print(\"after:    \", after)"
      ]
    },
    {
      "cell_type": "code",
      "execution_count": 360,
      "metadata": {},
      "outputs": [
        {
          "name": "stdout",
          "output_type": "stream",
          "text": [
            "True\n",
            "True\n"
          ]
        }
      ],
      "source": [
        "edge_case1 = \"(THADRYAN)TATACACACTTAGCAAGTTACGTTTCTTAT\"\n",
        "edge_case2 = \"GCAAGAACTATATACACACTTAGCAAGTTA(THADRYAN)\"\n",
        "\n",
        "test_cases = [insert_sequence(to_hide, before) for i in range(10000)]\n",
        "\n",
        "print(edge_case1 in test_cases)\n",
        "print(edge_case2 in test_cases)"
      ]
    },
    {
      "cell_type": "code",
      "execution_count": null,
      "metadata": {},
      "outputs": [],
      "source": []
    }
  ],
  "metadata": {
    "colab": {
      "authorship_tag": "ABX9TyMH5EUqbWK9ymZG76zmpiHt",
      "include_colab_link": true,
      "provenance": [],
      "toc_visible": true
    },
    "kernelspec": {
      "display_name": "Python 3",
      "name": "python3"
    },
    "language_info": {
      "codemirror_mode": {
        "name": "ipython",
        "version": 3
      },
      "file_extension": ".py",
      "mimetype": "text/x-python",
      "name": "python",
      "nbconvert_exporter": "python",
      "pygments_lexer": "ipython3",
      "version": "3.11.3"
    }
  },
  "nbformat": 4,
  "nbformat_minor": 0
}
