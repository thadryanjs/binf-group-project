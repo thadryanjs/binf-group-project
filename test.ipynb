{
  "cells": [
    {
      "attachments": {},
      "cell_type": "markdown",
      "metadata": {
        "colab_type": "text",
        "id": "view-in-github"
      },
      "source": [
        "<a href=\"https://colab.research.google.com/github/thadryanjs/binf-group-project/blob/main/test.ipynb\" target=\"_parent\"><img src=\"https://colab.research.google.com/assets/colab-badge.svg\" alt=\"Open In Colab\"/></a>"
      ]
    },
    {
      "cell_type": "code",
      "execution_count": 1,
      "metadata": {
        "colab": {
          "base_uri": "https://localhost:8080/",
          "height": 35
        },
        "id": "U8BETy0qAgCA",
        "outputId": "805ae582-c05b-4c5e-8d74-d442d36e36de"
      },
      "outputs": [
        {
          "data": {
            "text/plain": [
              "'Module online'"
            ]
          },
          "execution_count": 1,
          "metadata": {},
          "output_type": "execute_result"
        }
      ],
      "source": [
        "from src.test import *\n",
        "from src.dna import random_dna, get_kmers, get_kmer_counts\n",
        "\n",
        "test()"
      ]
    },
    {
      "cell_type": "code",
      "execution_count": 2,
      "metadata": {},
      "outputs": [
        {
          "name": "stdout",
          "output_type": "stream",
          "text": [
            "CGCTACGACTATACTCATAAGAGCGACTTCCCGGTTACCGGGGCATCATCTTCGTGGGGCCCCTCTCTGTCCACGGCGGCCCATTGGCGAGCGAGCTGCA\n"
          ]
        }
      ],
      "source": [
        "dna = random_dna(100)\n",
        "print(dna)\n",
        "\n",
        "assert len(dna)"
      ]
    },
    {
      "cell_type": "code",
      "execution_count": 3,
      "metadata": {},
      "outputs": [
        {
          "name": "stdout",
          "output_type": "stream",
          "text": [
            "['CGCT', 'GCTA', 'CTAC', 'TACG', 'ACGA', 'CGAC', 'GACT', 'ACTA', 'CTAT', 'TATA', 'ATAC', 'TACT', 'ACTC', 'CTCA', 'TCAT', 'CATA', 'ATAA', 'TAAG', 'AAGA', 'AGAG', 'GAGC', 'AGCG', 'GCGA', 'CGAC', 'GACT', 'ACTT', 'CTTC', 'TTCC', 'TCCC', 'CCCG', 'CCGG', 'CGGT', 'GGTT', 'GTTA', 'TTAC', 'TACC', 'ACCG', 'CCGG', 'CGGG', 'GGGG', 'GGGC', 'GGCA', 'GCAT', 'CATC', 'ATCA', 'TCAT', 'CATC', 'ATCT', 'TCTT', 'CTTC', 'TTCG', 'TCGT', 'CGTG', 'GTGG', 'TGGG', 'GGGG', 'GGGC', 'GGCC', 'GCCC', 'CCCC', 'CCCT', 'CCTC', 'CTCT', 'TCTC', 'CTCT', 'TCTG', 'CTGT', 'TGTC', 'GTCC', 'TCCA', 'CCAC', 'CACG', 'ACGG', 'CGGC', 'GGCG', 'GCGG', 'CGGC', 'GGCC', 'GCCC', 'CCCA', 'CCAT', 'CATT', 'ATTG', 'TTGG', 'TGGC', 'GGCG', 'GCGA', 'CGAG', 'GAGC', 'AGCG', 'GCGA', 'CGAG', 'GAGC', 'AGCT', 'GCTG', 'CTGC', 'TGCA']\n"
          ]
        }
      ],
      "source": [
        "kmers = get_kmers(dna, 4)\n",
        "\n",
        "print(kmers)\n"
      ]
    },
    {
      "cell_type": "code",
      "execution_count": 4,
      "metadata": {},
      "outputs": [
        {
          "name": "stdout",
          "output_type": "stream",
          "text": [
            "{'CGCT': 1, 'GCTA': 1, 'CTAC': 1, 'TACG': 1, 'ACGA': 1, 'CGAC': 2, 'GACT': 2, 'ACTA': 1, 'CTAT': 1, 'TATA': 1, 'ATAC': 1, 'TACT': 1, 'ACTC': 1, 'CTCA': 1, 'TCAT': 2, 'CATA': 1, 'ATAA': 1, 'TAAG': 1, 'AAGA': 1, 'AGAG': 1, 'GAGC': 3, 'AGCG': 2, 'GCGA': 3, 'ACTT': 1, 'CTTC': 2, 'TTCC': 1, 'TCCC': 1, 'CCCG': 1, 'CCGG': 2, 'CGGT': 1, 'GGTT': 1, 'GTTA': 1, 'TTAC': 1, 'TACC': 1, 'ACCG': 1, 'CGGG': 1, 'GGGG': 2, 'GGGC': 2, 'GGCA': 1, 'GCAT': 1, 'CATC': 2, 'ATCA': 1, 'ATCT': 1, 'TCTT': 1, 'TTCG': 1, 'TCGT': 1, 'CGTG': 1, 'GTGG': 1, 'TGGG': 1, 'GGCC': 2, 'GCCC': 2, 'CCCC': 1, 'CCCT': 1, 'CCTC': 1, 'CTCT': 2, 'TCTC': 1, 'TCTG': 1, 'CTGT': 1, 'TGTC': 1, 'GTCC': 1, 'TCCA': 1, 'CCAC': 1, 'CACG': 1, 'ACGG': 1, 'CGGC': 2, 'GGCG': 2, 'GCGG': 1, 'CCCA': 1, 'CCAT': 1, 'CATT': 1, 'ATTG': 1, 'TTGG': 1, 'TGGC': 1, 'CGAG': 2, 'AGCT': 1, 'GCTG': 1, 'CTGC': 1, 'TGCA': 1}\n"
          ]
        }
      ],
      "source": [
        "\n",
        "kmer_counts = get_kmer_counts(kmers)\n",
        "\n",
        "print(kmer_counts)"
      ]
    }
  ],
  "metadata": {
    "colab": {
      "authorship_tag": "ABX9TyMH5EUqbWK9ymZG76zmpiHt",
      "include_colab_link": true,
      "provenance": [],
      "toc_visible": true
    },
    "kernelspec": {
      "display_name": "Python 3",
      "name": "python3"
    },
    "language_info": {
      "codemirror_mode": {
        "name": "ipython",
        "version": 3
      },
      "file_extension": ".py",
      "mimetype": "text/x-python",
      "name": "python",
      "nbconvert_exporter": "python",
      "pygments_lexer": "ipython3",
      "version": "3.11.3"
    }
  },
  "nbformat": 4,
  "nbformat_minor": 0
}
