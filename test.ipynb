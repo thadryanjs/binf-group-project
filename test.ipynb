{
  "cells": [
    {
      "cell_type": "code",
      "execution_count": 1,
      "metadata": {
        "colab": {
          "base_uri": "https://localhost:8080/",
          "height": 35
        },
        "id": "U8BETy0qAgCA",
        "outputId": "805ae582-c05b-4c5e-8d74-d442d36e36de"
      },
      "outputs": [
        {
          "data": {
            "text/plain": [
              "'Module online'"
            ]
          },
          "execution_count": 1,
          "metadata": {},
          "output_type": "execute_result"
        }
      ],
      "source": [
        "from src.test import *\n",
        "from src.dna import *\n",
        "\n",
        "test()"
      ]
    },
    {
      "cell_type": "code",
      "execution_count": 2,
      "metadata": {},
      "outputs": [
        {
          "name": "stdout",
          "output_type": "stream",
          "text": [
            "ATGCGCTCGGAGTCCTTGAGGTGACGATATTGGAACCAAA\n"
          ]
        }
      ],
      "source": [
        "dna = random_dna(40)\n",
        "print(dna)\n",
        "\n",
        "assert len(dna)"
      ]
    },
    {
      "cell_type": "code",
      "execution_count": 3,
      "metadata": {},
      "outputs": [
        {
          "name": "stdout",
          "output_type": "stream",
          "text": [
            "['ATGC', 'TGCG', 'GCGC', 'CGCT', 'GCTC', 'CTCG', 'TCGG', 'CGGA', 'GGAG', 'GAGT', 'AGTC', 'GTCC', 'TCCT', 'CCTT', 'CTTG', 'TTGA', 'TGAG', 'GAGG', 'AGGT', 'GGTG', 'GTGA', 'TGAC', 'GACG', 'ACGA', 'CGAT', 'GATA', 'ATAT', 'TATT', 'ATTG', 'TTGG', 'TGGA', 'GGAA', 'GAAC', 'AACC', 'ACCA', 'CCAA', 'CAAA']\n"
          ]
        }
      ],
      "source": [
        "kmers = get_kmers(dna, 4)\n",
        "\n",
        "print(kmers)\n"
      ]
    },
    {
      "cell_type": "code",
      "execution_count": 4,
      "metadata": {},
      "outputs": [
        {
          "name": "stdout",
          "output_type": "stream",
          "text": [
            "{'ATGC': 1, 'TGCG': 1, 'GCGC': 1, 'CGCT': 1, 'GCTC': 1, 'CTCG': 1, 'TCGG': 1, 'CGGA': 1, 'GGAG': 1, 'GAGT': 1, 'AGTC': 1, 'GTCC': 1, 'TCCT': 1, 'CCTT': 1, 'CTTG': 1, 'TTGA': 1, 'TGAG': 1, 'GAGG': 1, 'AGGT': 1, 'GGTG': 1, 'GTGA': 1, 'TGAC': 1, 'GACG': 1, 'ACGA': 1, 'CGAT': 1, 'GATA': 1, 'ATAT': 1, 'TATT': 1, 'ATTG': 1, 'TTGG': 1, 'TGGA': 1, 'GGAA': 1, 'GAAC': 1, 'AACC': 1, 'ACCA': 1, 'CCAA': 1, 'CAAA': 1}\n"
          ]
        }
      ],
      "source": [
        "\n",
        "kmer_counts = get_kmer_counts(kmers)\n",
        "\n",
        "print(kmer_counts)"
      ]
    },
    {
      "cell_type": "code",
      "execution_count": 5,
      "metadata": {},
      "outputs": [
        {
          "name": "stdout",
          "output_type": "stream",
          "text": [
            "before:  GCAAGAACTATATACACACTTAGCAAGTTACGTTTCTTAT\n",
            "after:     (THADRYAN)TATACACACTTAGCAAGTTACGTTTCTTAT\n",
            "before:  GCAAGAACTATATACACACTTAGCAAGTTACGTTTCTTAT\n",
            "after:     GCAAGAACTATATACACACTTAGCAAGTTA(THADRYAN)\n",
            "before:  GCAAGAACTATATACACACTTAGCAAGTTACGTTTCTTAT\n",
            "after:     GCAAGAACTATATACA(THADRYAN)GTTACGTTTCTTAT\n"
          ]
        }
      ],
      "source": [
        "before = \"GCAAGAACTATATACACACTTAGCAAGTTACGTTTCTTAT\"\n",
        "\n",
        "to_hide = \"(THADRYAN)\"\n",
        "\n",
        "after = insert_sequence(to_hide, before, 0)\n",
        "print(\"before: \", before)\n",
        "print(\"after:    \", after)\n",
        "\n",
        "after = insert_sequence(to_hide, before, 30)\n",
        "print(\"before: \", before)\n",
        "print(\"after:    \", after)\n",
        "\n",
        "after = insert_sequence(to_hide, before)\n",
        "print(\"before: \", before)\n",
        "print(\"after:    \", after)"
      ]
    },
    {
      "cell_type": "code",
      "execution_count": 6,
      "metadata": {},
      "outputs": [
        {
          "name": "stdout",
          "output_type": "stream",
          "text": [
            "True\n",
            "True\n"
          ]
        }
      ],
      "source": [
        "edge_case1 = \"(THADRYAN)TATACACACTTAGCAAGTTACGTTTCTTAT\"\n",
        "edge_case2 = \"GCAAGAACTATATACACACTTAGCAAGTTA(THADRYAN)\"\n",
        "\n",
        "test_cases = [insert_sequence(to_hide, before) for i in range(10000)]\n",
        "\n",
        "print(edge_case1 in test_cases)\n",
        "print(edge_case2 in test_cases)"
      ]
    },
    {
      "cell_type": "code",
      "execution_count": 7,
      "metadata": {},
      "outputs": [
        {
          "name": "stdout",
          "output_type": "stream",
          "text": [
            "header:  >ENA|U00096|U00096.3 Escherichia coli str. K-12 substr. MG1655, complete genome.\n",
            "sequence of len:  4641652\n",
            "first 100:  GCTTTTCATTCTGACTGCAACGGGCAATATGTCTCTGTGTGGATTAAAAAAAGAGTGTCTGATAGCAGCTTCTGAACTGGTTACCTGCCGTGAGTAAAT\n",
            "last 100:  GGGGCTTTTAGAGCAACGAGACACGGCAATGTTGCACCGTTTGCTGCATGATATTGAAAAAAATATCACCAAATAAAAAACGCCTTAGTAAGTATTTTT\n"
          ]
        }
      ],
      "source": [
        "sequence_obj = read_fasta(\"data/U00096.3.fasta\")\n",
        "name = sequence_obj[\"header\"]\n",
        "seq = sequence_obj[\"sequence\"]\n",
        "\n",
        "print(\"header: \", name)\n",
        "print(\"sequence of len: \", len(seq))\n",
        "print(\"first 100: \", seq[1:100])\n",
        "print(\"last 100: \", seq[-100 : -1])"
      ]
    },
    {
      "cell_type": "code",
      "execution_count": 8,
      "metadata": {},
      "outputs": [
        {
          "name": "stdout",
          "output_type": "stream",
          "text": [
            ">ENA|U00096|U00096.3 Escherichia coli str. K-12 substr. MG1655, complete genome.\n",
            "GCTTTTCATTCTGACTGCAACGGGCAATATGTCTCT|<BONG_HITS_4_JESUS>|TCTGATAGCAGCTTCTGAACTGGTTACCTGCCGTGAGTAAAT\n"
          ]
        }
      ],
      "source": [
        "# get a subset of the sequence\n",
        "seq_subset = seq[1:100]\n",
        "\n",
        "# hide a super secret message in the\n",
        "new_seq = insert_sequence(\"|<BONG_HITS_4_JESUS>|\", seq_subset)\n",
        "\n",
        "# make sure we didn't change the length\n",
        "assert len(seq_subset) == len(new_seq)\n",
        "\n",
        "print(name)\n",
        "print(new_seq)"
      ]
    },
    {
      "cell_type": "code",
      "execution_count": 9,
      "metadata": {},
      "outputs": [
        {
          "name": "stdout",
          "output_type": "stream",
          "text": [
            "promoter: GTCCTCTTTCACCCA\n",
            "base sequence:  TCGCGAATGTACGGCCGTCCGCTCAGAACCTTCATGGCGAGAGTAAACGTATAAACGACGCCCCGATGACAGTTTGGTCCTCTTTCACCCAAGACCGAGGCGCGCAGGGTTGGCGGGCGAAACCCGAATCTAATTTAAGTACTCGCCATCAGGGTACATATATCTCCCACACTCATAGTAGCCTGACTGAAGGCGGTTGT\n",
            "start of promoter: 76\n",
            "base sequence at that index: GTCCTCTTTCACCCA\n"
          ]
        }
      ],
      "source": [
        "random.seed(8675309)\n",
        "\n",
        "base_sequence = random_dna(200)\n",
        "\n",
        "\n",
        "\n",
        "promoter_obj = select_random_promoter(base_sequence)\n",
        "promoter = promoter_obj[\"promoter\"]\n",
        "promoter_start = promoter_obj[\"promoter_start\"]\n",
        "promoter_length = promoter_obj[\"promoter_length\"]\n",
        "\n",
        "print(\"promoter:\", promoter)\n",
        "print(\"base sequence: \", base_sequence)\n",
        "print(\"start of promoter:\", base_sequence.index(promoter))\n",
        "print(\"base sequence at that index:\", base_sequence[76:(76+15)])"
      ]
    },
    {
      "cell_type": "code",
      "execution_count": 10,
      "metadata": {},
      "outputs": [
        {
          "name": "stdout",
          "output_type": "stream",
          "text": [
            "number of differences 1\n",
            "number of differences:  2\n"
          ]
        }
      ],
      "source": [
        "\n",
        "degenerated_outside = degenerate_outside_region(base_sequence, promoter_start, promoter_length)\n",
        "\n",
        "# there should be one difference\n",
        "count = 0\n",
        "for i in range(len(base_sequence)):\n",
        "    if degenerated_outside[i] != base_sequence[i]:\n",
        "        count += 1\n",
        "\n",
        "print(\"number of differences\", count)\n",
        "\n",
        "\n",
        "\n",
        "# degenerate again\n",
        "degenerated_outside2 = degenerate_outside_region(degenerated_outside, promoter_start, promoter_length)\n",
        "\n",
        "# there should be one more difference\n",
        "count = 0\n",
        "for i in range(len(base_sequence)):\n",
        "    if degenerated_outside2[i] != base_sequence[i]:\n",
        "        count += 1\n",
        "\n",
        "print(\"number of differences: \", count)"
      ]
    },
    {
      "cell_type": "code",
      "execution_count": 11,
      "metadata": {},
      "outputs": [
        {
          "name": "stdout",
          "output_type": "stream",
          "text": [
            "GTCCTCTTTCACCCA\n",
            "GTCCTCTTTCGCCCA\n"
          ]
        }
      ],
      "source": [
        "\n",
        "\n",
        "degenerated_inside = degenerate_inside_region(base_sequence, promoter_start, promoter_length)\n",
        "\n",
        "# there should be one difference\n",
        "print(base_sequence[promoter_start:(promoter_start+promoter_length)])\n",
        "print(degenerated_inside[promoter_start:(promoter_start+promoter_length)])"
      ]
    },
    {
      "cell_type": "code",
      "execution_count": 18,
      "metadata": {},
      "outputs": [
        {
          "name": "stdout",
          "output_type": "stream",
          "text": [
            "sequence to start: GGTAGTCCAGGGACACCGTAGCACCCCTCCCCTAACACCCTAGTACCGCCCTTCCTGCCAAATGGCGGCGCAGGAGGTCAAACACCGAACCGCCGGGGTT\n",
            "promoter: AGTACCGCCCTTCCT\n",
            "sequence after: GGTAGTCCACAGACAGGGTAGCACCCGTCCCCTAACACATTATGTTTGAGGACCTTGTCAAATGCCGGTACAGGAGTTTAAACTCCGAACCGCCGGGGTT\n",
            "25\n"
          ]
        }
      ],
      "source": [
        "base_seq_test_orig = random_dna(100)\n",
        "base_seq_test = base_seq_test_orig\n",
        "\n",
        "promoter_obj = select_random_promoter(base_seq_test)\n",
        "\n",
        "promoter = promoter_obj[\"promoter\"]\n",
        "promoter_start = promoter_obj[\"promoter_start\"]\n",
        "promoter_length = promoter_obj[\"promoter_length\"]\n",
        "\n",
        "print(\"sequence to start:\", base_seq_test)\n",
        "print(\"promoter:\", promoter)\n",
        "\n",
        "for i in range(15):\n",
        "    base_seq_test = degenerate_outside_region(base_seq_test,\n",
        "                                              promoter_start, \n",
        "                                              promoter_length)\n",
        "    for j in range(5):\n",
        "        base_seq_test = degenerate_inside_region(base_seq_test,\n",
        "                                                 promoter_start,\n",
        "                                                 promoter_length)\n",
        "print(\"sequence after:\", base_seq_test)\n",
        "\n",
        "count = 0\n",
        "for k in range(len(base_seq_test)):\n",
        "    if base_seq_test_orig[k] != base_seq_test[k]:\n",
        "        count += 1\n",
        "\n",
        "# I think this is right because it could get moved in at i==3 back\n",
        "# to where it was at i == 1\n",
        "print(count)\n"
      ]
    }
  ],
  "metadata": {
    "colab": {
      "authorship_tag": "ABX9TyMH5EUqbWK9ymZG76zmpiHt",
      "include_colab_link": true,
      "provenance": [],
      "toc_visible": true
    },
    "kernelspec": {
      "display_name": "Python 3",
      "name": "python3"
    },
    "language_info": {
      "codemirror_mode": {
        "name": "ipython",
        "version": 3
      },
      "file_extension": ".py",
      "mimetype": "text/x-python",
      "name": "python",
      "nbconvert_exporter": "python",
      "pygments_lexer": "ipython3",
      "version": "3.11.3"
    }
  },
  "nbformat": 4,
  "nbformat_minor": 0
}
