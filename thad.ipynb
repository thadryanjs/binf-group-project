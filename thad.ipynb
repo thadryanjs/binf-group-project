{
 "cells": [
  {
   "cell_type": "code",
   "execution_count": 31,
   "metadata": {},
   "outputs": [],
   "source": [
    "import subprocess\n",
    "import random\n",
    "import fastaparser\n",
    "import os\n",
    "\n",
    "import pandas as pd\n",
    "\n",
    "from src.dna import *"
   ]
  },
  {
   "attachments": {},
   "cell_type": "markdown",
   "metadata": {},
   "source": [
    "We will need to modify a sequences using the tool, then compare it against the background."
   ]
  },
  {
   "cell_type": "code",
   "execution_count": 2,
   "metadata": {},
   "outputs": [
    {
     "data": {
      "text/plain": [
       "['CTTTAACA',\n",
       " 'CATCGGACC',\n",
       " 'TGGGGGGGCG',\n",
       " 'TCCGTGCTGTA',\n",
       " 'CGGGGCTAGTTC',\n",
       " 'CTACGCCAATGTA',\n",
       " 'GGTAACCGTATGTT',\n",
       " 'ACTCTACGCAGCGCA',\n",
       " 'CAAACTCGTTGGAACA',\n",
       " 'TGAACATTTCGGTTATA',\n",
       " 'CGCGCGAAGAACTTGGCA',\n",
       " 'TCGATGAATTACGGAAACG',\n",
       " 'ACCTATCGATCCAACCTAGG']"
      ]
     },
     "execution_count": 2,
     "metadata": {},
     "output_type": "execute_result"
    }
   ],
   "source": [
    "random.seed(867530)\n",
    "\n",
    "min = 8\n",
    "max = 20\n",
    "\n",
    "sequences = [random_dna(i) for i in range(min, max+1)]\n",
    "\n",
    "sequences"
   ]
  },
  {
   "cell_type": "code",
   "execution_count": 3,
   "metadata": {},
   "outputs": [],
   "source": [
    "filepath = \"data/\"\n",
    "filename = \"U00096.3.fasta\"\n",
    "\n",
    "for seq in sequences:\n",
    "\n",
    "    fasta_obj = read_fasta(filepath+filename)\n",
    "    fasta_header = fasta_obj[\"header\"]\n",
    "    fasta_seq = fasta_obj[\"sequence\"]\n",
    "\n",
    "    new_sequence = insert_sequence(seq, fasta_seq)\n",
    "\n",
    "    seq_id = str(len(seq)) + \"_\" + seq\n",
    "\n",
    "    new_filename = filepath + \"modified/\" + seq_id + \"_\" + filename\n",
    "\n",
    "    with open(new_filename, \"w\") as fasta_file:\n",
    "        fasta_seq_mod = fastaparser.FastaSequence(\n",
    "            sequence = new_sequence,\n",
    "            # id = seq_id,\n",
    "            description = filename + \" with \" + seq + \"introduced\"\n",
    "        )"
   ]
  },
  {
   "cell_type": "code",
   "execution_count": 4,
   "metadata": {},
   "outputs": [
    {
     "data": {
      "text/plain": [
       "dict"
      ]
     },
     "execution_count": 4,
     "metadata": {},
     "output_type": "execute_result"
    }
   ],
   "source": [
    "f = read_fasta(filename = \"data/U00096.3.fasta\")\n",
    "\n",
    "type(f)"
   ]
  },
  {
   "cell_type": "code",
   "execution_count": 20,
   "metadata": {},
   "outputs": [
    {
     "data": {
      "text/plain": [
       "['motifs_CTTTAACA',\n",
       " 'motifs_CATCGGACC',\n",
       " 'motifs_TGGGGGGGCG',\n",
       " 'motifs_TCCGTGCTGTA',\n",
       " 'motifs_CGGGGCTAGTTC',\n",
       " 'motifs_CTACGCCAATGTA',\n",
       " 'motifs_GGTAACCGTATGTT',\n",
       " 'motifs_ACTCTACGCAGCGCA',\n",
       " 'motifs_CAAACTCGTTGGAACA',\n",
       " 'motifs_TGAACATTTCGGTTATA',\n",
       " 'motifs_CGCGCGAAGAACTTGGCA',\n",
       " 'motifs_TCGATGAATTACGGAAACG',\n",
       " 'motifs_ACCTATCGATCCAACCTAGG']"
      ]
     },
     "execution_count": 20,
     "metadata": {},
     "output_type": "execute_result"
    }
   ],
   "source": [
    "mod_dirs = os.listdir(\"homer-results/\")\n",
    "\n",
    "mod_dirs"
   ]
  },
  {
   "attachments": {},
   "cell_type": "markdown",
   "metadata": {},
   "source": [
    "## Random DNA Does not appear to fool it in this experiment\n",
    "    > Limitation: degenerate codons"
   ]
  },
  {
   "cell_type": "code",
   "execution_count": 45,
   "metadata": {},
   "outputs": [
    {
     "data": {
      "text/plain": [
       "{'CTTTAACA': False,\n",
       " 'CATCGGACC': False,\n",
       " 'TGGGGGGGCG': False,\n",
       " 'TCCGTGCTGTA': False,\n",
       " 'CGGGGCTAGTTC': False,\n",
       " 'CTACGCCAATGTA': False,\n",
       " 'GGTAACCGTATGTT': False,\n",
       " 'ACTCTACGCAGCGCA': False,\n",
       " 'CAAACTCGTTGGAACA': False,\n",
       " 'TGAACATTTCGGTTATA': False,\n",
       " 'CGCGCGAAGAACTTGGCA': False,\n",
       " 'TCGATGAATTACGGAAACG': False,\n",
       " 'ACCTATCGATCCAACCTAGG': False}"
      ]
     },
     "execution_count": 45,
     "metadata": {},
     "output_type": "execute_result"
    }
   ],
   "source": [
    "results_dict = {}\n",
    "\n",
    "for mod_file in mod_dirs:\n",
    "    insert_sequence = mod_file.split(\"_\")[1]\n",
    "    outdirs = os.listdir(\"homer-results/\" + mod_file)\n",
    "    for f in outdirs:\n",
    "        if \"motif.2.tmp\" in f:\n",
    "            motif_data = pd.read_csv(\"homer-results/\" + mod_file + \"/\" + f, sep = \"\\t\")\n",
    "            motifs = motif_data[\"Consensus\"]\n",
    "            found = False\n",
    "            for m in motifs:\n",
    "                if m == insert_sequence:\n",
    "                    found = True\n",
    "            results_dict[insert_sequence] = found\n",
    "results_dict     "
   ]
  },
  {
   "cell_type": "code",
   "execution_count": 7,
   "metadata": {},
   "outputs": [],
   "source": [
    "# example motifs\n",
    "# findMotifs.pl targets.fa fasta motifResults/ -fasta background.fa\n",
    "# for f in mod_files:\n",
    "\n",
    "#     subprocess.call([\n",
    "#         \"findMotifs.pl\",\n",
    "#         \"data/U00096.3.fasta\",\n",
    "#         \"fasta\",\n",
    "#         \"homer-results/motifs_\" + f.split(\"_\")[1],\n",
    "#         \"-fasta\",\n",
    "#         \"data/modified/\" + f\n",
    "#     ])"
   ]
  },
  {
   "cell_type": "code",
   "execution_count": null,
   "metadata": {},
   "outputs": [],
   "source": []
  }
 ],
 "metadata": {
  "kernelspec": {
   "display_name": "binf1",
   "language": "python",
   "name": "python3"
  },
  "language_info": {
   "codemirror_mode": {
    "name": "ipython",
    "version": 3
   },
   "file_extension": ".py",
   "mimetype": "text/x-python",
   "name": "python",
   "nbconvert_exporter": "python",
   "pygments_lexer": "ipython3",
   "version": "3.11.3"
  },
  "orig_nbformat": 4
 },
 "nbformat": 4,
 "nbformat_minor": 2
}
