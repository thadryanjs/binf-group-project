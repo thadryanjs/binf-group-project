{
  "cells": [
    {
      "cell_type": "code",
      "execution_count": 2,
      "metadata": {
        "colab": {
          "base_uri": "https://localhost:8080/",
          "height": 35
        },
        "id": "U8BETy0qAgCA",
        "outputId": "805ae582-c05b-4c5e-8d74-d442d36e36de"
      },
      "outputs": [
        {
          "data": {
            "text/plain": [
              "'Module online'"
            ]
          },
          "execution_count": 2,
          "metadata": {},
          "output_type": "execute_result"
        }
      ],
      "source": [
        "from src.test import *\n",
        "from src.dna import *\n",
        "\n",
        "test()"
      ]
    },
    {
      "cell_type": "code",
      "execution_count": 3,
      "metadata": {},
      "outputs": [
        {
          "name": "stdout",
          "output_type": "stream",
          "text": [
            "GCGGTCTTGTATCCGACAGGAGTACTAAGTTAACTGAGCG\n"
          ]
        }
      ],
      "source": [
        "dna = random_dna(40)\n",
        "print(dna)\n",
        "\n",
        "assert len(dna)"
      ]
    },
    {
      "cell_type": "code",
      "execution_count": 4,
      "metadata": {},
      "outputs": [
        {
          "name": "stdout",
          "output_type": "stream",
          "text": [
            "['GCGG', 'CGGT', 'GGTC', 'GTCT', 'TCTT', 'CTTG', 'TTGT', 'TGTA', 'GTAT', 'TATC', 'ATCC', 'TCCG', 'CCGA', 'CGAC', 'GACA', 'ACAG', 'CAGG', 'AGGA', 'GGAG', 'GAGT', 'AGTA', 'GTAC', 'TACT', 'ACTA', 'CTAA', 'TAAG', 'AAGT', 'AGTT', 'GTTA', 'TTAA', 'TAAC', 'AACT', 'ACTG', 'CTGA', 'TGAG', 'GAGC', 'AGCG']\n"
          ]
        }
      ],
      "source": [
        "kmers = get_kmers(dna, 4)\n",
        "\n",
        "print(kmers)\n"
      ]
    },
    {
      "cell_type": "code",
      "execution_count": 5,
      "metadata": {},
      "outputs": [
        {
          "name": "stdout",
          "output_type": "stream",
          "text": [
            "{'GCGG': 1, 'CGGT': 1, 'GGTC': 1, 'GTCT': 1, 'TCTT': 1, 'CTTG': 1, 'TTGT': 1, 'TGTA': 1, 'GTAT': 1, 'TATC': 1, 'ATCC': 1, 'TCCG': 1, 'CCGA': 1, 'CGAC': 1, 'GACA': 1, 'ACAG': 1, 'CAGG': 1, 'AGGA': 1, 'GGAG': 1, 'GAGT': 1, 'AGTA': 1, 'GTAC': 1, 'TACT': 1, 'ACTA': 1, 'CTAA': 1, 'TAAG': 1, 'AAGT': 1, 'AGTT': 1, 'GTTA': 1, 'TTAA': 1, 'TAAC': 1, 'AACT': 1, 'ACTG': 1, 'CTGA': 1, 'TGAG': 1, 'GAGC': 1, 'AGCG': 1}\n"
          ]
        }
      ],
      "source": [
        "\n",
        "kmer_counts = get_kmer_counts(kmers)\n",
        "\n",
        "print(kmer_counts)"
      ]
    },
    {
      "cell_type": "code",
      "execution_count": 6,
      "metadata": {},
      "outputs": [
        {
          "name": "stdout",
          "output_type": "stream",
          "text": [
            "before:  GCAAGAACTATATACACACTTAGCAAGTTACGTTTCTTAT\n",
            "after:     (THADRYAN)TATACACACTTAGCAAGTTACGTTTCTTAT\n",
            "before:  GCAAGAACTATATACACACTTAGCAAGTTACGTTTCTTAT\n",
            "after:     GCAAGAACTATATACACACTTAGCAAGTTA(THADRYAN)\n",
            "before:  GCAAGAACTATATACACACTTAGCAAGTTACGTTTCTTAT\n",
            "after:     GCAAGAACTATATACACACTTAGCA(THADRYAN)CTTAT\n"
          ]
        }
      ],
      "source": [
        "before = \"GCAAGAACTATATACACACTTAGCAAGTTACGTTTCTTAT\"\n",
        "\n",
        "to_hide = \"(THADRYAN)\"\n",
        "\n",
        "after = insert_sequence(to_hide, before, 0)\n",
        "print(\"before: \", before)\n",
        "print(\"after:    \", after)\n",
        "\n",
        "after = insert_sequence(to_hide, before, 30)\n",
        "print(\"before: \", before)\n",
        "print(\"after:    \", after)\n",
        "\n",
        "after = insert_sequence(to_hide, before)\n",
        "print(\"before: \", before)\n",
        "print(\"after:    \", after)"
      ]
    },
    {
      "cell_type": "code",
      "execution_count": 7,
      "metadata": {},
      "outputs": [
        {
          "name": "stdout",
          "output_type": "stream",
          "text": [
            "True\n",
            "True\n"
          ]
        }
      ],
      "source": [
        "edge_case1 = \"(THADRYAN)TATACACACTTAGCAAGTTACGTTTCTTAT\"\n",
        "edge_case2 = \"GCAAGAACTATATACACACTTAGCAAGTTA(THADRYAN)\"\n",
        "\n",
        "test_cases = [insert_sequence(to_hide, before) for i in range(10000)]\n",
        "\n",
        "print(edge_case1 in test_cases)\n",
        "print(edge_case2 in test_cases)"
      ]
    },
    {
      "cell_type": "code",
      "execution_count": 8,
      "metadata": {},
      "outputs": [
        {
          "name": "stdout",
          "output_type": "stream",
          "text": [
            "header:  >ENA|U00096|U00096.3 Escherichia coli str. K-12 substr. MG1655, complete genome.\n",
            "sequence of len:  4641652\n",
            "first 100:  GCTTTTCATTCTGACTGCAACGGGCAATATGTCTCTGTGTGGATTAAAAAAAGAGTGTCTGATAGCAGCTTCTGAACTGGTTACCTGCCGTGAGTAAAT\n",
            "last 100:  GGGGCTTTTAGAGCAACGAGACACGGCAATGTTGCACCGTTTGCTGCATGATATTGAAAAAAATATCACCAAATAAAAAACGCCTTAGTAAGTATTTTT\n"
          ]
        }
      ],
      "source": [
        "sequence_obj = read_fasta(\"data/U00096.3.fasta\")\n",
        "name = sequence_obj[\"header\"]\n",
        "seq = sequence_obj[\"sequence\"]\n",
        "\n",
        "print(\"header: \", name)\n",
        "print(\"sequence of len: \", len(seq))\n",
        "print(\"first 100: \", seq[1:100])\n",
        "print(\"last 100: \", seq[-100 : -1])"
      ]
    },
    {
      "cell_type": "code",
      "execution_count": 9,
      "metadata": {},
      "outputs": [
        {
          "name": "stdout",
          "output_type": "stream",
          "text": [
            ">ENA|U00096|U00096.3 Escherichia coli str. K-12 substr. MG1655, complete genome.\n",
            "GCTTTTCATTCTGACTGCAACGGGCAATATGTCTCTGTGTGGATTAAAAA|<BONG_HITS_4_JESUS>|CTGAACTGGTTACCTGCCGTGAGTAAAT\n"
          ]
        }
      ],
      "source": [
        "# get a subset of the sequence\n",
        "seq_subset = seq[1:100]\n",
        "\n",
        "# hide a super secret message in the\n",
        "new_seq = insert_sequence(\"|<BONG_HITS_4_JESUS>|\", seq_subset)\n",
        "\n",
        "# make sure we didn't change the length\n",
        "assert len(seq_subset) == len(new_seq)\n",
        "\n",
        "print(name)\n",
        "print(new_seq)"
      ]
    },
    {
      "cell_type": "code",
      "execution_count": 27,
      "metadata": {},
      "outputs": [
        {
          "name": "stdout",
          "output_type": "stream",
          "text": [
            "promoter: GTCCTCTTTCACCCA\n",
            "base sequence:  TCGCGAATGTACGGCCGTCCGCTCAGAACCTTCATGGCGAGAGTAAACGTATAAACGACGCCCCGATGACAGTTTGGTCCTCTTTCACCCAAGACCGAGGCGCGCAGGGTTGGCGGGCGAAACCCGAATCTAATTTAAGTACTCGCCATCAGGGTACATATATCTCCCACACTCATAGTAGCCTGACTGAAGGCGGTTGT\n",
            "start of promoter: 76\n",
            "base sequence at that index: GTCCTCTTTCACCCA\n"
          ]
        }
      ],
      "source": [
        "random.seed(8675309)\n",
        "\n",
        "base_sequence = random_dna(200)\n",
        "\n",
        "def select_random_promoter(seq, length = 15):\n",
        "    # it can start at zer0 but can't start so that it goes off the end\n",
        "    sample_space = [i for i in range(length, len(seq) - length)]\n",
        "    start_location = random.choice(sample_space)\n",
        "    return seq[start_location:start_location + length]\n",
        "\n",
        "promoter = select_random_promoter(base_sequence)\n",
        "\n",
        "print(\"promoter:\", promoter)\n",
        "print(\"base sequence: \", base_sequence)\n",
        "print(\"start of promoter:\", base_sequence.index(promoter))\n",
        "print(\"base sequence at that index:\", base_sequence[76:(76+15)])"
      ]
    }
  ],
  "metadata": {
    "colab": {
      "authorship_tag": "ABX9TyMH5EUqbWK9ymZG76zmpiHt",
      "include_colab_link": true,
      "provenance": [],
      "toc_visible": true
    },
    "kernelspec": {
      "display_name": "Python 3",
      "name": "python3"
    },
    "language_info": {
      "codemirror_mode": {
        "name": "ipython",
        "version": 3
      },
      "file_extension": ".py",
      "mimetype": "text/x-python",
      "name": "python",
      "nbconvert_exporter": "python",
      "pygments_lexer": "ipython3",
      "version": "3.11.3"
    }
  },
  "nbformat": 4,
  "nbformat_minor": 0
}
