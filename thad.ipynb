{
 "cells": [
  {
   "cell_type": "code",
   "execution_count": 46,
   "metadata": {},
   "outputs": [],
   "source": [
    "import subprocess\n",
    "import random\n",
    "import fastaparser\n",
    "import os\n",
    "\n",
    "from src.dna import *"
   ]
  },
  {
   "attachments": {},
   "cell_type": "markdown",
   "metadata": {},
   "source": [
    "We will need to modify a sequences using the tool, then compare it against the background."
   ]
  },
  {
   "cell_type": "code",
   "execution_count": 47,
   "metadata": {},
   "outputs": [
    {
     "data": {
      "text/plain": [
       "['CTTTAACA',\n",
       " 'CATCGGACC',\n",
       " 'TGGGGGGGCG',\n",
       " 'TCCGTGCTGTA',\n",
       " 'CGGGGCTAGTTC',\n",
       " 'CTACGCCAATGTA',\n",
       " 'GGTAACCGTATGTT',\n",
       " 'ACTCTACGCAGCGCA',\n",
       " 'CAAACTCGTTGGAACA',\n",
       " 'TGAACATTTCGGTTATA',\n",
       " 'CGCGCGAAGAACTTGGCA',\n",
       " 'TCGATGAATTACGGAAACG',\n",
       " 'ACCTATCGATCCAACCTAGG']"
      ]
     },
     "execution_count": 47,
     "metadata": {},
     "output_type": "execute_result"
    }
   ],
   "source": [
    "random.seed(867530)\n",
    "\n",
    "min = 8\n",
    "max = 20\n",
    "\n",
    "sequences = [random_dna(i) for i in range(min, max+1)]\n",
    "\n",
    "sequences"
   ]
  },
  {
   "cell_type": "code",
   "execution_count": 48,
   "metadata": {},
   "outputs": [],
   "source": [
    "filepath = \"data/\"\n",
    "filename = \"U00096.3.fasta\"\n",
    "\n",
    "for seq in sequences:\n",
    "\n",
    "    fasta_obj = read_fasta(filepath+filename)\n",
    "    fasta_header = fasta_obj[\"header\"]\n",
    "    fasta_seq = fasta_obj[\"sequence\"]\n",
    "\n",
    "    new_sequence = insert_sequence(seq, fasta_seq)\n",
    "\n",
    "    seq_id = str(len(seq)) + \"_\" + seq\n",
    "\n",
    "    new_filename = filepath + \"modified/\" + seq_id + \"_\" + filename\n",
    "\n",
    "    with open(new_filename, \"w\") as fasta_file:\n",
    "        fasta_seq_mod = fastaparser.FastaSequence(\n",
    "            sequence = new_sequence,\n",
    "            # id = seq_id,\n",
    "            description = filename + \" with \" + seq + \"introduced\"\n",
    "        )"
   ]
  },
  {
   "cell_type": "code",
   "execution_count": 49,
   "metadata": {},
   "outputs": [
    {
     "data": {
      "text/plain": [
       "dict"
      ]
     },
     "execution_count": 49,
     "metadata": {},
     "output_type": "execute_result"
    }
   ],
   "source": [
    "f = read_fasta(filename=\"data/U00096.3.fasta\")\n",
    "\n",
    "type(f)"
   ]
  },
  {
   "cell_type": "code",
   "execution_count": 50,
   "metadata": {},
   "outputs": [
    {
     "data": {
      "text/plain": [
       "['8_CTTTAACA_U00096.3.fasta',\n",
       " '9_CATCGGACC_U00096.3.fasta',\n",
       " '10_TGGGGGGGCG_U00096.3.fasta',\n",
       " '11_TCCGTGCTGTA_U00096.3.fasta',\n",
       " '12_CGGGGCTAGTTC_U00096.3.fasta',\n",
       " '13_CTACGCCAATGTA_U00096.3.fasta',\n",
       " '14_GGTAACCGTATGTT_U00096.3.fasta',\n",
       " '15_ACTCTACGCAGCGCA_U00096.3.fasta',\n",
       " '16_CAAACTCGTTGGAACA_U00096.3.fasta',\n",
       " '17_TGAACATTTCGGTTATA_U00096.3.fasta',\n",
       " '18_CGCGCGAAGAACTTGGCA_U00096.3.fasta',\n",
       " '19_TCGATGAATTACGGAAACG_U00096.3.fasta',\n",
       " '20_ACCTATCGATCCAACCTAGG_U00096.3.fasta']"
      ]
     },
     "execution_count": 50,
     "metadata": {},
     "output_type": "execute_result"
    }
   ],
   "source": [
    "mod_files = os.listdir(\"data/modified/\")\n",
    "\n",
    "mod_files"
   ]
  },
  {
   "cell_type": "code",
   "execution_count": 51,
   "metadata": {},
   "outputs": [
    {
     "name": "stdout",
     "output_type": "stream",
     "text": [
      "8_CTTTAACA_U00096.3.fasta\n",
      "CTTTAACA\n",
      "9_CATCGGACC_U00096.3.fasta\n",
      "CATCGGACC\n",
      "10_TGGGGGGGCG_U00096.3.fasta\n",
      "TGGGGGGGCG\n",
      "11_TCCGTGCTGTA_U00096.3.fasta\n",
      "TCCGTGCTGTA\n",
      "12_CGGGGCTAGTTC_U00096.3.fasta\n",
      "CGGGGCTAGTTC\n",
      "13_CTACGCCAATGTA_U00096.3.fasta\n",
      "CTACGCCAATGTA\n",
      "14_GGTAACCGTATGTT_U00096.3.fasta\n",
      "GGTAACCGTATGTT\n",
      "15_ACTCTACGCAGCGCA_U00096.3.fasta\n",
      "ACTCTACGCAGCGCA\n",
      "16_CAAACTCGTTGGAACA_U00096.3.fasta\n",
      "CAAACTCGTTGGAACA\n",
      "17_TGAACATTTCGGTTATA_U00096.3.fasta\n",
      "TGAACATTTCGGTTATA\n",
      "18_CGCGCGAAGAACTTGGCA_U00096.3.fasta\n",
      "CGCGCGAAGAACTTGGCA\n",
      "19_TCGATGAATTACGGAAACG_U00096.3.fasta\n",
      "TCGATGAATTACGGAAACG\n",
      "20_ACCTATCGATCCAACCTAGG_U00096.3.fasta\n",
      "ACCTATCGATCCAACCTAGG\n"
     ]
    }
   ],
   "source": [
    "for f in mod_files:\n",
    "    print(f)\n",
    "    print(f.split(\"_\")[1])"
   ]
  },
  {
   "cell_type": "code",
   "execution_count": 52,
   "metadata": {},
   "outputs": [
    {
     "ename": "FileNotFoundError",
     "evalue": "[Errno 2] No such file or directory: 'findMotifs.pl'",
     "output_type": "error",
     "traceback": [
      "\u001b[0;31m---------------------------------------------------------------------------\u001b[0m",
      "\u001b[0;31mFileNotFoundError\u001b[0m                         Traceback (most recent call last)",
      "Cell \u001b[0;32mIn[52], line 5\u001b[0m\n\u001b[1;32m      1\u001b[0m \u001b[39m# example motifs\u001b[39;00m\n\u001b[1;32m      2\u001b[0m \u001b[39m# findMotifs.pl targets.fa fasta motifResults/ -fasta background.fa\u001b[39;00m\n\u001b[1;32m      3\u001b[0m \u001b[39mfor\u001b[39;00m f \u001b[39min\u001b[39;00m mod_files:\n\u001b[0;32m----> 5\u001b[0m     subprocess\u001b[39m.\u001b[39;49mcall([\n\u001b[1;32m      6\u001b[0m         \u001b[39m\"\u001b[39;49m\u001b[39mfindMotifs.pl\u001b[39;49m\u001b[39m\"\u001b[39;49m,\n\u001b[1;32m      7\u001b[0m         \u001b[39m\"\u001b[39;49m\u001b[39mdata/U00096.3.fasta\u001b[39;49m\u001b[39m\"\u001b[39;49m,\n\u001b[1;32m      8\u001b[0m         \u001b[39m\"\u001b[39;49m\u001b[39mfasta\u001b[39;49m\u001b[39m\"\u001b[39;49m,\n\u001b[1;32m      9\u001b[0m         \u001b[39m\"\u001b[39;49m\u001b[39mhomer-results/motifs\u001b[39;49m\u001b[39m\"\u001b[39;49m \u001b[39m+\u001b[39;49m f\u001b[39m.\u001b[39;49msplit(\u001b[39m\"\u001b[39;49m\u001b[39m_\u001b[39;49m\u001b[39m\"\u001b[39;49m)[\u001b[39m1\u001b[39;49m],\n\u001b[1;32m     10\u001b[0m         \u001b[39m\"\u001b[39;49m\u001b[39m-fasta\u001b[39;49m\u001b[39m\"\u001b[39;49m,\n\u001b[1;32m     11\u001b[0m         \u001b[39m\"\u001b[39;49m\u001b[39mdata/modified/\u001b[39;49m\u001b[39m\"\u001b[39;49m \u001b[39m+\u001b[39;49m f\n\u001b[1;32m     12\u001b[0m     ])\n",
      "File \u001b[0;32m~/anaconda3/envs/binf-proj/lib/python3.11/subprocess.py:389\u001b[0m, in \u001b[0;36mcall\u001b[0;34m(timeout, *popenargs, **kwargs)\u001b[0m\n\u001b[1;32m    381\u001b[0m \u001b[39mdef\u001b[39;00m \u001b[39mcall\u001b[39m(\u001b[39m*\u001b[39mpopenargs, timeout\u001b[39m=\u001b[39m\u001b[39mNone\u001b[39;00m, \u001b[39m*\u001b[39m\u001b[39m*\u001b[39mkwargs):\n\u001b[1;32m    382\u001b[0m \u001b[39m    \u001b[39m\u001b[39m\"\"\"Run command with arguments.  Wait for command to complete or\u001b[39;00m\n\u001b[1;32m    383\u001b[0m \u001b[39m    timeout, then return the returncode attribute.\u001b[39;00m\n\u001b[1;32m    384\u001b[0m \n\u001b[0;32m   (...)\u001b[0m\n\u001b[1;32m    387\u001b[0m \u001b[39m    retcode = call([\"ls\", \"-l\"])\u001b[39;00m\n\u001b[1;32m    388\u001b[0m \u001b[39m    \"\"\"\u001b[39;00m\n\u001b[0;32m--> 389\u001b[0m     \u001b[39mwith\u001b[39;00m Popen(\u001b[39m*\u001b[39;49mpopenargs, \u001b[39m*\u001b[39;49m\u001b[39m*\u001b[39;49mkwargs) \u001b[39mas\u001b[39;00m p:\n\u001b[1;32m    390\u001b[0m         \u001b[39mtry\u001b[39;00m:\n\u001b[1;32m    391\u001b[0m             \u001b[39mreturn\u001b[39;00m p\u001b[39m.\u001b[39mwait(timeout\u001b[39m=\u001b[39mtimeout)\n",
      "File \u001b[0;32m~/anaconda3/envs/binf-proj/lib/python3.11/subprocess.py:1024\u001b[0m, in \u001b[0;36mPopen.__init__\u001b[0;34m(self, args, bufsize, executable, stdin, stdout, stderr, preexec_fn, close_fds, shell, cwd, env, universal_newlines, startupinfo, creationflags, restore_signals, start_new_session, pass_fds, user, group, extra_groups, encoding, errors, text, umask, pipesize, process_group)\u001b[0m\n\u001b[1;32m   1020\u001b[0m         \u001b[39mif\u001b[39;00m \u001b[39mself\u001b[39m\u001b[39m.\u001b[39mtext_mode:\n\u001b[1;32m   1021\u001b[0m             \u001b[39mself\u001b[39m\u001b[39m.\u001b[39mstderr \u001b[39m=\u001b[39m io\u001b[39m.\u001b[39mTextIOWrapper(\u001b[39mself\u001b[39m\u001b[39m.\u001b[39mstderr,\n\u001b[1;32m   1022\u001b[0m                     encoding\u001b[39m=\u001b[39mencoding, errors\u001b[39m=\u001b[39merrors)\n\u001b[0;32m-> 1024\u001b[0m     \u001b[39mself\u001b[39;49m\u001b[39m.\u001b[39;49m_execute_child(args, executable, preexec_fn, close_fds,\n\u001b[1;32m   1025\u001b[0m                         pass_fds, cwd, env,\n\u001b[1;32m   1026\u001b[0m                         startupinfo, creationflags, shell,\n\u001b[1;32m   1027\u001b[0m                         p2cread, p2cwrite,\n\u001b[1;32m   1028\u001b[0m                         c2pread, c2pwrite,\n\u001b[1;32m   1029\u001b[0m                         errread, errwrite,\n\u001b[1;32m   1030\u001b[0m                         restore_signals,\n\u001b[1;32m   1031\u001b[0m                         gid, gids, uid, umask,\n\u001b[1;32m   1032\u001b[0m                         start_new_session, process_group)\n\u001b[1;32m   1033\u001b[0m \u001b[39mexcept\u001b[39;00m:\n\u001b[1;32m   1034\u001b[0m     \u001b[39m# Cleanup if the child failed starting.\u001b[39;00m\n\u001b[1;32m   1035\u001b[0m     \u001b[39mfor\u001b[39;00m f \u001b[39min\u001b[39;00m \u001b[39mfilter\u001b[39m(\u001b[39mNone\u001b[39;00m, (\u001b[39mself\u001b[39m\u001b[39m.\u001b[39mstdin, \u001b[39mself\u001b[39m\u001b[39m.\u001b[39mstdout, \u001b[39mself\u001b[39m\u001b[39m.\u001b[39mstderr)):\n",
      "File \u001b[0;32m~/anaconda3/envs/binf-proj/lib/python3.11/subprocess.py:1917\u001b[0m, in \u001b[0;36mPopen._execute_child\u001b[0;34m(self, args, executable, preexec_fn, close_fds, pass_fds, cwd, env, startupinfo, creationflags, shell, p2cread, p2cwrite, c2pread, c2pwrite, errread, errwrite, restore_signals, gid, gids, uid, umask, start_new_session, process_group)\u001b[0m\n\u001b[1;32m   1915\u001b[0m     \u001b[39mif\u001b[39;00m errno_num \u001b[39m!=\u001b[39m \u001b[39m0\u001b[39m:\n\u001b[1;32m   1916\u001b[0m         err_msg \u001b[39m=\u001b[39m os\u001b[39m.\u001b[39mstrerror(errno_num)\n\u001b[0;32m-> 1917\u001b[0m     \u001b[39mraise\u001b[39;00m child_exception_type(errno_num, err_msg, err_filename)\n\u001b[1;32m   1918\u001b[0m \u001b[39mraise\u001b[39;00m child_exception_type(err_msg)\n",
      "\u001b[0;31mFileNotFoundError\u001b[0m: [Errno 2] No such file or directory: 'findMotifs.pl'"
     ]
    }
   ],
   "source": [
    "# example motifs\n",
    "# findMotifs.pl targets.fa fasta motifResults/ -fasta background.fa\n",
    "for f in mod_files:\n",
    "\n",
    "    subprocess.call([\n",
    "        \"findMotifs.pl\",\n",
    "        \"data/U00096.3.fasta\",\n",
    "        \"fasta\",\n",
    "        \"homer-results/motifs_\" + f.split(\"_\")[1],\n",
    "        \"-fasta\",\n",
    "        \"data/modified/\" + f\n",
    "    ])"
   ]
  },
  {
   "cell_type": "code",
   "execution_count": null,
   "metadata": {},
   "outputs": [],
   "source": []
  }
 ],
 "metadata": {
  "kernelspec": {
   "display_name": "binf1",
   "language": "python",
   "name": "python3"
  },
  "language_info": {
   "codemirror_mode": {
    "name": "ipython",
    "version": 3
   },
   "file_extension": ".py",
   "mimetype": "text/x-python",
   "name": "python",
   "nbconvert_exporter": "python",
   "pygments_lexer": "ipython3",
   "version": "3.11.3"
  },
  "orig_nbformat": 4
 },
 "nbformat": 4,
 "nbformat_minor": 2
}
